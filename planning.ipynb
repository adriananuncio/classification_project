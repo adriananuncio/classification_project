{
 "cells": [
  {
   "cell_type": "markdown",
   "id": "8ec5d375",
   "metadata": {},
   "source": [
    "##### Project Objective:\n",
    "    - document code, data science pipeline, findings, and key takeaways in a jupyter notebook\n",
    "    - create modules(i.e. acquire.py) to make process replicable and final notebook easy to read\n",
    "    - ask exploratory questions of the data. Answer through charts and stats tests\n",
    "    - create a model to predict customer churn\n",
    "    - refine work into a report using jupyter notebook\n",
    "    - do a 5 min presentation of report explaining my work, why i did it, goals, what i found, my methodologies, and conclusion\n",
    "    - be able to answer questions about my code, process, findings, takeaways, and model"
   ]
  },
  {
   "cell_type": "markdown",
   "id": "2fdcae1b",
   "metadata": {},
   "source": [
    "##### Business goals\n",
    "    - find drivers for customer churn\n",
    "    - create ML classification model that accuratly predicts churn\n",
    "    - deliver report"
   ]
  },
  {
   "cell_type": "markdown",
   "id": "69fa70e8",
   "metadata": {},
   "source": [
    "##### Audience\n",
    "    - manager and managers boss"
   ]
  },
  {
   "cell_type": "markdown",
   "id": "24d07cfc",
   "metadata": {},
   "source": [
    "## Must be in project repo\n",
    "    - Readme\n",
    "    - Final report\n",
    "    - acquire and prepare models (.py)\n",
    "    - predictions\n",
    "    - notebook with work"
   ]
  },
  {
   "cell_type": "code",
   "execution_count": null,
   "id": "8c143092",
   "metadata": {},
   "outputs": [],
   "source": []
  }
 ],
 "metadata": {
  "kernelspec": {
   "display_name": "Python 3 (ipykernel)",
   "language": "python",
   "name": "python3"
  },
  "language_info": {
   "codemirror_mode": {
    "name": "ipython",
    "version": 3
   },
   "file_extension": ".py",
   "mimetype": "text/x-python",
   "name": "python",
   "nbconvert_exporter": "python",
   "pygments_lexer": "ipython3",
   "version": "3.9.13"
  }
 },
 "nbformat": 4,
 "nbformat_minor": 5
}
