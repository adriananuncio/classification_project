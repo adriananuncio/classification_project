{
 "cells": [
  {
   "cell_type": "markdown",
   "id": "3c1496b4",
   "metadata": {},
   "source": [
    "#### git.ignore\n",
    "#### create .gitignore_global\n",
    "echo '.DS_Store' >> ~/.gitignore_global\n",
    "\n",
    "\n",
    "#### open .gitignore_global\n",
    "code ~/.gitignore_global\n",
    "\n",
    "#### code withing .gitignore_global\n",
    "env.py\n",
    ".DS_Store\n",
    ".ipynb_checkpoints/\n",
    "__pycache__\n",
    ".vscode/\n",
    "\n",
    "#### code to exclude git from tracking .gitignore_global\n",
    "git config --global core.excludesfile ~/.gitignore_global\n",
    "\n"
   ]
  },
  {
   "cell_type": "markdown",
   "id": "30143e04",
   "metadata": {},
   "source": [
    "## Imports"
   ]
  },
  {
   "cell_type": "code",
   "execution_count": 1,
   "id": "a75aca79",
   "metadata": {},
   "outputs": [],
   "source": [
    "# Establish connection to Codeup database\n",
    "from env import host, user, password\n",
    "import os\n",
    "import acquire\n",
    "#import prep\n",
    "\n",
    "# data prep\n",
    "import prep\n",
    "\n",
    "# data manipulation/\n",
    "import pandas as pd\n",
    "import numpy as np\n",
    "\n",
    "# splitting and imputing functions\n",
    "from sklearn.model_selection import train_test_split\n",
    "from sklearn.impute import SimpleImputer\n",
    "\n",
    "# modeling\n",
    "import seaborn as sns\n",
    "import matplotlib.pyplot as plt\n",
    "%matplotlib inline\n",
    "\n",
    "from sklearn.tree import DecisionTreeClassifier,\\\n",
    "export_text,\\\n",
    "plot_tree\n",
    "from sklearn.metrics import accuracy_score, \\\n",
    "confusion_matrix,\\\n",
    "classification_report\n",
    "from sklearn.ensemble import RandomForestClassifier\n",
    "import warnings\n",
    "warnings.filterwarnings('ignore')"
   ]
  },
  {
   "cell_type": "markdown",
   "id": "0bd77ea8",
   "metadata": {},
   "source": [
    "## Acquire"
   ]
  },
  {
   "cell_type": "code",
   "execution_count": 2,
   "id": "0f1d5311",
   "metadata": {},
   "outputs": [],
   "source": [
    "# Use functions in acquire.py to aquire the Telco churn dataset from the Codeup database in SQL\n",
    "# assign the data as df\n",
    "df = acquire.get_telco_data()\n",
    "\n",
    "# verify aquisition\n",
    "# df.head()"
   ]
  },
  {
   "cell_type": "markdown",
   "id": "676c89ef",
   "metadata": {},
   "source": [
    "## Prep"
   ]
  },
  {
   "cell_type": "code",
   "execution_count": 3,
   "id": "29bdff8d",
   "metadata": {},
   "outputs": [],
   "source": [
    "# Look at df.info()\n",
    "# print(df.info())\n",
    "\n",
    "# Describe the data\n",
    "# print(df.describe())\n",
    "\n",
    "# data shape\n",
    "# print(df.shape)\n",
    "\n",
    "# look for null values\n",
    "# print(df.isnull().sum())\n",
    "\n",
    "# look for na values\n",
    "# print(df.isna().sum())"
   ]
  },
  {
   "cell_type": "markdown",
   "id": "8269a52f",
   "metadata": {},
   "source": [
    "##### Take away\n",
    "\n",
    "Columns to drop\n",
    "- payment_type_id \n",
    "- internet_service_type_id\n",
    "- contract_type_id\n",
    "\n",
    "Things to do\n",
    "- Change datatype of total charges to float\n",
    "- Change values to be all lower case and spaces to be underscores\n",
    "\n",
    "##### Questions for data\n",
    "How does living situations effect churn?\n",
    "- is there a relationship between dependents and churn?\n",
    "- is there a relationship between partner and churn?\n",
    "- is there a relationship between senior_citizen and churn?\n",
    "- is there a relationship between gender and churn?\n",
    "\n",
    "\n",
    "If these variables do have relationships, is there a relationship to churn?\n",
    "- is there a relationship between tenure and dependents?\n",
    "- is there a relationship between dependents and total charges?\n",
    "- is there a relationship between dependents and monthly charges?\n",
    "- is there a relationship between tenure and partner?\n",
    "- is there a relationship between partner and total charges?\n",
    "- is there a relationship between partner and monthly charges?"
   ]
  },
  {
   "cell_type": "markdown",
   "id": "6cfa2351",
   "metadata": {},
   "source": [
    "##### clean data"
   ]
  },
  {
   "cell_type": "code",
   "execution_count": 3,
   "id": "0c1bdca0",
   "metadata": {},
   "outputs": [
    {
     "name": "stdout",
     "output_type": "stream",
     "text": [
      "train -> (3943, 6)\n",
      "validate -> (1691, 6)\n",
      "test -> (1409, 6)\n"
     ]
    }
   ],
   "source": [
    "# clean data\n",
    "# create a variable for columns to drop\n",
    "# cols_to_drop = ['payment_type_id', 'internet_service_type_id', 'contract_type_id']\n",
    "# create a function to drop columns\n",
    "# df.drop(columns = cols_to_drop)\n",
    "# assign function as df\n",
    "# df = df.drop(columns= cols_to_drop)\n",
    "# verify columns are dropped\n",
    "# df.head(1)\n",
    "\n",
    "# create a definition to drop 'payment_type_id', 'internet_service_type_id', 'contract_type_id' if they exist\n",
    "def drop_cols(df):\n",
    "    cols_to_drop = ['payment_type_id'\n",
    "                    , 'internet_service_type_id'\n",
    "                    , 'contract_type_id']\n",
    "    df = df.drop(columns=[col for col in cols_to_drop if col in df])\n",
    "    return df\n",
    "\n",
    "# verify function works\n",
    "# df = drop_cols(df)\n",
    "# df.head()\n",
    "\n",
    "# create def to get dummies\n",
    "def create_dummy(df):\n",
    "    dummy_cols = ['churn', 'dependents', 'gender', 'partner']\n",
    "    dummy = pd.concat([df,\n",
    "            pd.get_dummies(df[dummy_cols], drop_first= True)], axis=1)\n",
    "    return dummy.drop(['churn', 'dependents', 'gender', 'partner'], axis=1)\n",
    "\n",
    "# verify it works\n",
    "# df = create_dummy(df)\n",
    "\n",
    "# create a def to rename dummy columns\n",
    "def rename_dummies(df):\n",
    "    rename_dums = df.rename(columns= {'churn_Yes':'has_churned'\n",
    "                        , 'dependents_Yes':'has_dependents'\n",
    "                        , 'gender_Male':'is_male'\n",
    "                        , 'partner_Yes':'has_partner'})\n",
    "    return rename_dums\n",
    "\n",
    "# verify it works\n",
    "# df = rename_dummies(df)\n",
    "\n",
    "# Create a function to clean data for errors found during train\n",
    "def second_clean(df):\n",
    "    df.customer_id = df.index\n",
    "    index_vals = [1,2,3,4,5,6,7,8,9,10,11,12,13,14,15,16]\n",
    "    df = df.drop(df.columns[index_vals], axis=1)\n",
    "    df['baseline'] = 0\n",
    "    df.has_dependents = df.has_dependents.astype(str)\n",
    "    df.has_churned = df.has_churned.astype(str)\n",
    "    df.has_partner = df.has_partner.astype(str)\n",
    "    df.is_male = df.is_male.astype(str)\n",
    "    df.baseline = df.baseline.astype(str)\n",
    "    df.customer_id = df.customer_id.astype(str)\n",
    "    return df\n",
    "\n",
    "#df = second_clean(df)\n",
    "# df.info()\n",
    "\n",
    "# create a final function that applies drop_cols and to_float to the dataframe \n",
    "def clean_data(df):\n",
    "    a = drop_cols(df)\n",
    "    b = create_dummy(a)\n",
    "    c = rename_dummies(b)\n",
    "    d = second_clean(c)\n",
    "    return d\n",
    "# verify\n",
    "df = clean_data(df)\n",
    "# df\n",
    "\n",
    "\n",
    "# split data\n",
    "train, test = train_test_split(df\n",
    "                               , test_size=.2\n",
    "                               , random_state=123\n",
    "                               , stratify=df.has_churned)\n",
    "train, validate = train_test_split(train\n",
    "                                  , test_size=.3\n",
    "                                  , random_state=123\n",
    "                                  , stratify=train.has_churned)\n",
    "\n",
    "# validate split\n",
    "# print(f'train -> {train.shape}')\n",
    "# print(f'validate -> {validate.shape}')\n",
    "# print(f'test -> {test.shape}')\n",
    "\n",
    "# create train, validate, test function\n",
    "def split_data(df):\n",
    "    train, test = train_test_split(df\n",
    "                               , test_size=.2\n",
    "                               , random_state=123\n",
    "                               , stratify=df.has_churned)\n",
    "    train, validate = train_test_split(train\n",
    "                                , test_size=.3\n",
    "                                , random_state=123\n",
    "                                , stratify=train.has_churned)\n",
    "    return train, validate, test\n",
    "\n",
    "# validate function split data\n",
    "# train, validate, test = split_data(df)\n",
    "\n",
    "# print(f'train -> {train.shape}')\n",
    "# print(f'validate -> {validate.shape}')\n",
    "# print(f'test -> {test.shape}')\n",
    "\n",
    "# create a function that cleans and preps data\n",
    "def prep_telco(df):\n",
    "    df = clean_data(df)\n",
    "    train, validate, test = split_data(df)\n",
    "    return train, validate, test\n",
    "\n",
    "# validate function works\n",
    "print(f'train -> {train.shape}')\n",
    "print(f'validate -> {validate.shape}')\n",
    "print(f'test -> {test.shape}')"
   ]
  },
  {
   "cell_type": "markdown",
   "id": "98eccbf4",
   "metadata": {},
   "source": [
    "##### Split data"
   ]
  },
  {
   "cell_type": "markdown",
   "id": "3a9131dc",
   "metadata": {},
   "source": [
    "## Modeling"
   ]
  },
  {
   "cell_type": "code",
   "execution_count": 8,
   "id": "39e1739e",
   "metadata": {},
   "outputs": [],
   "source": [
    "# identify the baseline value\n",
    "# train.has_churned.value_counts()"
   ]
  },
  {
   "cell_type": "code",
   "execution_count": 4,
   "id": "49dfae3b",
   "metadata": {},
   "outputs": [],
   "source": [
    "# variables for later\n",
    "X_cols = train.columns.drop('has_churned').to_list()\n",
    "y_col = 'has_churned'\n",
    "\n",
    "# create x and y values\n",
    "X_train = train.drop(columns=['has_churned'])\n",
    "y_train = train.has_churned\n",
    "\n",
    "X_validate = validate.drop(columns=['has_churned'])\n",
    "y_validate = validate.has_churned\n",
    "\n",
    "X_test = test.drop(columns=['has_churned'])\n",
    "y_test = test.has_churned"
   ]
  },
  {
   "cell_type": "markdown",
   "id": "eb3d118b",
   "metadata": {},
   "source": [
    "##### Decision Tree"
   ]
  },
  {
   "cell_type": "code",
   "execution_count": 5,
   "id": "9abf2f22",
   "metadata": {},
   "outputs": [
    {
     "data": {
      "text/plain": [
       "[Text(0.5, 0.875, 'has_dependents <= 0.5\\ngini = 0.39\\nsamples = 3943\\nvalue = [2897, 1046]\\nclass = 0'),\n",
       " Text(0.25, 0.625, 'has_partner <= 0.5\\ngini = 0.431\\nsamples = 2730\\nvalue = [1871, 859]\\nclass = 0'),\n",
       " Text(0.125, 0.375, 'customer_id <= 62.0\\ngini = 0.454\\nsamples = 1811\\nvalue = [1179, 632]\\nclass = 0'),\n",
       " Text(0.0625, 0.125, 'gini = 0.165\\nsamples = 11\\nvalue = [10, 1]\\nclass = 0'),\n",
       " Text(0.1875, 0.125, 'gini = 0.455\\nsamples = 1800\\nvalue = [1169, 631]\\nclass = 0'),\n",
       " Text(0.375, 0.375, 'is_male <= 0.5\\ngini = 0.372\\nsamples = 919\\nvalue = [692, 227]\\nclass = 0'),\n",
       " Text(0.3125, 0.125, 'gini = 0.332\\nsamples = 442\\nvalue = [349, 93]\\nclass = 0'),\n",
       " Text(0.4375, 0.125, 'gini = 0.404\\nsamples = 477\\nvalue = [343, 134]\\nclass = 0'),\n",
       " Text(0.75, 0.625, 'customer_id <= 4907.0\\ngini = 0.261\\nsamples = 1213\\nvalue = [1026, 187]\\nclass = 0'),\n",
       " Text(0.625, 0.375, 'customer_id <= 2914.5\\ngini = 0.285\\nsamples = 865\\nvalue = [716, 149]\\nclass = 0'),\n",
       " Text(0.5625, 0.125, 'gini = 0.25\\nsamples = 512\\nvalue = [437, 75]\\nclass = 0'),\n",
       " Text(0.6875, 0.125, 'gini = 0.331\\nsamples = 353\\nvalue = [279, 74]\\nclass = 0'),\n",
       " Text(0.875, 0.375, 'customer_id <= 5942.5\\ngini = 0.195\\nsamples = 348\\nvalue = [310, 38]\\nclass = 0'),\n",
       " Text(0.8125, 0.125, 'gini = 0.097\\nsamples = 156\\nvalue = [148, 8]\\nclass = 0'),\n",
       " Text(0.9375, 0.125, 'gini = 0.264\\nsamples = 192\\nvalue = [162, 30]\\nclass = 0')]"
      ]
     },
     "execution_count": 5,
     "metadata": {},
     "output_type": "execute_result"
    },
    {
     "data": {
      "image/png": "[encoded data removed]",
      "text/plain": [
       "<Figure size 1300x700 with 1 Axes>"
      ]
     },
     "metadata": {},
     "output_type": "display_data"
    }
   ],
   "source": [
    "# create object\n",
    "clf = DecisionTreeClassifier(max_depth=3, random_state=123)\n",
    "\n",
    "# fit model\n",
    "clf = clf.fit(X_train, y_train)\n",
    "\n",
    "# visuaalize decision tree\n",
    "plt.figure(figsize=(13, 7))\n",
    "plot_tree(clf\n",
    "          , feature_names=X_train.columns\n",
    "          , class_names=clf.classes_\n",
    "          , rounded=True)"
   ]
  },
  {
   "cell_type": "code",
   "execution_count": 6,
   "id": "7a183e79",
   "metadata": {},
   "outputs": [
    {
     "name": "stdout",
     "output_type": "stream",
     "text": [
      "['0' '0' '0' '0' '0']\n",
      "[[0.78959276 0.21040724]\n",
      " [0.71907757 0.28092243]\n",
      " [0.78959276 0.21040724]\n",
      " [0.64944444 0.35055556]\n",
      " [0.71907757 0.28092243]]\n"
     ]
    }
   ],
   "source": [
    "# create prediction on train observations\n",
    "y_pred = clf.predict(X_train)\n",
    "print(y_pred[0:5])\n",
    "\n",
    "# estimate probability of churn and no churn\n",
    "y_pred_proba = clf.predict_proba(X_train)\n",
    "print(y_pred_proba[0:5])"
   ]
  },
  {
   "cell_type": "markdown",
   "id": "6b7a223b",
   "metadata": {},
   "source": [
    "##### Evaluate Model"
   ]
  },
  {
   "cell_type": "code",
   "execution_count": 7,
   "id": "3247e7b9",
   "metadata": {},
   "outputs": [
    {
     "name": "stdout",
     "output_type": "stream",
     "text": [
      "Accuracy of Decision Tree classifier on training set: 0.73\n",
      "\n",
      "classification report for training set: \n",
      "              precision    recall  f1-score   support\n",
      "\n",
      "           0       0.73      1.00      0.85      2897\n",
      "           1       0.00      0.00      0.00      1046\n",
      "\n",
      "    accuracy                           0.73      3943\n",
      "   macro avg       0.37      0.50      0.42      3943\n",
      "weighted avg       0.54      0.73      0.62      3943\n",
      "\n",
      "\n",
      "value counts for training set: \n",
      "0    2897\n",
      "1    1046\n",
      "Name: has_churned, dtype: int64\n",
      "\n",
      "confusion matrix for training set: \n",
      "[[2897    0]\n",
      " [1046    0]]\n"
     ]
    },
    {
     "data": {
      "text/html": [
       "<div>\n",
       "<style scoped>\n",
       "    .dataframe tbody tr th:only-of-type {\n",
       "        vertical-align: middle;\n",
       "    }\n",
       "\n",
       "    .dataframe tbody tr th {\n",
       "        vertical-align: top;\n",
       "    }\n",
       "\n",
       "    .dataframe thead th {\n",
       "        text-align: right;\n",
       "    }\n",
       "</style>\n",
       "<table border=\"1\" class=\"dataframe\">\n",
       "  <thead>\n",
       "    <tr style=\"text-align: right;\">\n",
       "      <th></th>\n",
       "      <th>0</th>\n",
       "      <th>1</th>\n",
       "    </tr>\n",
       "  </thead>\n",
       "  <tbody>\n",
       "    <tr>\n",
       "      <th>0</th>\n",
       "      <td>2897</td>\n",
       "      <td>0</td>\n",
       "    </tr>\n",
       "    <tr>\n",
       "      <th>1</th>\n",
       "      <td>1046</td>\n",
       "      <td>0</td>\n",
       "    </tr>\n",
       "  </tbody>\n",
       "</table>\n",
       "</div>"
      ],
      "text/plain": [
       "      0  1\n",
       "0  2897  0\n",
       "1  1046  0"
      ]
     },
     "execution_count": 7,
     "metadata": {},
     "output_type": "execute_result"
    }
   ],
   "source": [
    "# accuracy of decision tree\n",
    "print('Accuracy of Decision Tree classifier on training set: {:.2f}'\n",
    "      .format(clf.score(X_train, y_train)))\n",
    "\n",
    "# classification report\n",
    "print(f'\\nclassification report for training set: \\n{classification_report(y_train, y_pred)}')\n",
    "\n",
    "# value counts\n",
    "print(f'\\nvalue counts for training set: \\n{y_train.value_counts()}')\n",
    "\n",
    "# confusion matrix\n",
    "print(f'\\nconfusion matrix for training set: \\n{confusion_matrix(y_train, y_pred)}')\n",
    "\n",
    "labels = sorted(y_train.unique())\n",
    "con_mat = pd.DataFrame(confusion_matrix(y_train, y_pred), index=labels, columns=labels)\n",
    "con_mat"
   ]
  },
  {
   "cell_type": "markdown",
   "id": "f33224cb",
   "metadata": {},
   "source": [
    "##### Evaluate Model with Validate"
   ]
  },
  {
   "cell_type": "code",
   "execution_count": 10,
   "id": "8e3bad66",
   "metadata": {},
   "outputs": [
    {
     "name": "stdout",
     "output_type": "stream",
     "text": [
      "Accuracy of Decision Tree classifier on validate set: 0.73\n",
      "\n",
      "Classification Report for Validate Dataset: \n",
      "              precision    recall  f1-score   support\n",
      "\n",
      "           0       0.73      1.00      0.85      1242\n",
      "           1       0.00      0.00      0.00       449\n",
      "\n",
      "    accuracy                           0.73      1691\n",
      "   macro avg       0.37      0.50      0.42      1691\n",
      "weighted avg       0.54      0.73      0.62      1691\n",
      "\n",
      "\n",
      "Value Vounts for Validate Dataset: \n",
      "0    1242\n",
      "1     449\n",
      "Name: has_churned, dtype: int64\n",
      "\n",
      "Confusion Matrix for Validate Set: \n",
      "[[1242    0]\n",
      " [ 449    0]]\n"
     ]
    },
    {
     "data": {
      "text/html": [
       "<div>\n",
       "<style scoped>\n",
       "    .dataframe tbody tr th:only-of-type {\n",
       "        vertical-align: middle;\n",
       "    }\n",
       "\n",
       "    .dataframe tbody tr th {\n",
       "        vertical-align: top;\n",
       "    }\n",
       "\n",
       "    .dataframe thead th {\n",
       "        text-align: right;\n",
       "    }\n",
       "</style>\n",
       "<table border=\"1\" class=\"dataframe\">\n",
       "  <thead>\n",
       "    <tr style=\"text-align: right;\">\n",
       "      <th></th>\n",
       "      <th>0</th>\n",
       "      <th>1</th>\n",
       "    </tr>\n",
       "  </thead>\n",
       "  <tbody>\n",
       "    <tr>\n",
       "      <th>0</th>\n",
       "      <td>1242</td>\n",
       "      <td>0</td>\n",
       "    </tr>\n",
       "    <tr>\n",
       "      <th>1</th>\n",
       "      <td>449</td>\n",
       "      <td>0</td>\n",
       "    </tr>\n",
       "  </tbody>\n",
       "</table>\n",
       "</div>"
      ],
      "text/plain": [
       "      0  1\n",
       "0  1242  0\n",
       "1   449  0"
      ]
     },
     "execution_count": 10,
     "metadata": {},
     "output_type": "execute_result"
    }
   ],
   "source": [
    "# Produce y_predictions from the X_validate\n",
    "y_pred = clf.predict(X_validate)\n",
    "\n",
    "# Accuracy of decision tree\n",
    "print('Accuracy of Decision Tree classifier on validate set: {:.2f}'\n",
    "      .format(clf.score(X_validate, y_validate)))\n",
    "\n",
    "# classification report for validate dataset\n",
    "print(f'\\nClassification Report for Validate Dataset: \\n{classification_report(y_validate, y_pred)}')\n",
    "\n",
    "# value counts for validate dataset\n",
    "print(f'\\nValue Counts for Validate Dataset: \\n{y_validate.value_counts()}')\n",
    "\n",
    "# confusion matrix\n",
    "print(f'\\nConfusion Matrix for Validate Set: \\n{confusion_matrix(y_validate, y_pred)}')\n",
    "\n",
    "labels = sorted(y_validate.unique())\n",
    "con_mat = pd.DataFrame(confusion_matrix(y_validate, y_pred), index=labels, columns=labels)\n",
    "con_mat"
   ]
  },
  {
   "cell_type": "markdown",
   "id": "df81c3aa",
   "metadata": {},
   "source": [
    "##### Evaluate model with Test"
   ]
  },
  {
   "cell_type": "code",
   "execution_count": 12,
   "id": "4527938b",
   "metadata": {},
   "outputs": [
    {
     "name": "stdout",
     "output_type": "stream",
     "text": [
      "Accuracy of Decision Tree classifier on validate set: 0.73\n",
      "\n",
      "Classification Report for Test Dataset: \n",
      "              precision    recall  f1-score   support\n",
      "\n",
      "           0       0.73      1.00      0.85      1035\n",
      "           1       0.00      0.00      0.00       374\n",
      "\n",
      "    accuracy                           0.73      1409\n",
      "   macro avg       0.37      0.50      0.42      1409\n",
      "weighted avg       0.54      0.73      0.62      1409\n",
      "\n",
      "\n",
      "Value Counts for Test Dataset: \n",
      "0    1035\n",
      "1     374\n",
      "Name: has_churned, dtype: int64\n",
      "\n",
      "Confusion Matrix for Test Set: \n",
      "[[1035    0]\n",
      " [ 374    0]]\n"
     ]
    },
    {
     "data": {
      "text/html": [
       "<div>\n",
       "<style scoped>\n",
       "    .dataframe tbody tr th:only-of-type {\n",
       "        vertical-align: middle;\n",
       "    }\n",
       "\n",
       "    .dataframe tbody tr th {\n",
       "        vertical-align: top;\n",
       "    }\n",
       "\n",
       "    .dataframe thead th {\n",
       "        text-align: right;\n",
       "    }\n",
       "</style>\n",
       "<table border=\"1\" class=\"dataframe\">\n",
       "  <thead>\n",
       "    <tr style=\"text-align: right;\">\n",
       "      <th></th>\n",
       "      <th>0</th>\n",
       "      <th>1</th>\n",
       "    </tr>\n",
       "  </thead>\n",
       "  <tbody>\n",
       "    <tr>\n",
       "      <th>0</th>\n",
       "      <td>1035</td>\n",
       "      <td>0</td>\n",
       "    </tr>\n",
       "    <tr>\n",
       "      <th>1</th>\n",
       "      <td>374</td>\n",
       "      <td>0</td>\n",
       "    </tr>\n",
       "  </tbody>\n",
       "</table>\n",
       "</div>"
      ],
      "text/plain": [
       "      0  1\n",
       "0  1035  0\n",
       "1   374  0"
      ]
     },
     "execution_count": 12,
     "metadata": {},
     "output_type": "execute_result"
    }
   ],
   "source": [
    "# Produce y_predictions from the X_test\n",
    "y_pred = clf.predict(X_test)\n",
    "\n",
    "# Accuracy of decision tree\n",
    "print('Accuracy of Decision Tree classifier on validate set: {:.2f}'\n",
    "      .format(clf.score(X_test, y_test)))\n",
    "\n",
    "# classification report for test dataset\n",
    "print(f'\\nClassification Report for Test Dataset: \\n{classification_report(y_test, y_pred)}')\n",
    "\n",
    "# value counts for test dataset\n",
    "print(f'\\nValue Counts for Test Dataset: \\n{y_test.value_counts()}')\n",
    "\n",
    "# confusion matrix\n",
    "print(f'\\nConfusion Matrix for Test Set: \\n{confusion_matrix(y_test, y_pred)}')\n",
    "\n",
    "labels = sorted(y_test.unique())\n",
    "con_mat = pd.DataFrame(confusion_matrix(y_test, y_pred), index=labels, columns=labels)\n",
    "con_mat"
   ]
  },
  {
   "cell_type": "markdown",
   "id": "1b8d3e9d",
   "metadata": {},
   "source": [
    "### Random Forest"
   ]
  },
  {
   "cell_type": "code",
   "execution_count": 45,
   "id": "71cf188f",
   "metadata": {},
   "outputs": [
    {
     "name": "stdout",
     "output_type": "stream",
     "text": [
      "Accuracy of random forest classifier on training set: 0.76\n",
      "\n",
      "Classification Report for Test Dataset: \n",
      "              precision    recall  f1-score   support\n",
      "\n",
      "           0       0.75      1.00      0.86      2897\n",
      "           1       0.94      0.10      0.18      1046\n",
      "\n",
      "    accuracy                           0.76      3943\n",
      "   macro avg       0.85      0.55      0.52      3943\n",
      "weighted avg       0.80      0.76      0.68      3943\n",
      "\n",
      "\n",
      "Value Counts for Train Dataset: \n",
      "0    2897\n",
      "1    1046\n",
      "Name: has_churned, dtype: int64\n",
      "\n",
      "Confusion Matrix for Train Set: \n",
      "[[2890    7]\n",
      " [ 939  107]]\n",
      "\n",
      "Accuracy: 0.7600811564798376 \n",
      "TPR: 0.1022944550669216 \n",
      "FPR: 0.002416292716603383 \n",
      "TNR: 0.9975837072833966 \n",
      "FNR: 0.8977055449330784 \n",
      "Precision: 0.9385964912280702 \n",
      "Recall: 0.1022944550669216 \n",
      "f1: 0.18448275862068966 \n",
      "support_0: 0 \n",
      "support_1: 0\n"
     ]
    },
    {
     "data": {
      "text/html": [
       "<div>\n",
       "<style scoped>\n",
       "    .dataframe tbody tr th:only-of-type {\n",
       "        vertical-align: middle;\n",
       "    }\n",
       "\n",
       "    .dataframe tbody tr th {\n",
       "        vertical-align: top;\n",
       "    }\n",
       "\n",
       "    .dataframe thead th {\n",
       "        text-align: right;\n",
       "    }\n",
       "</style>\n",
       "<table border=\"1\" class=\"dataframe\">\n",
       "  <thead>\n",
       "    <tr style=\"text-align: right;\">\n",
       "      <th></th>\n",
       "      <th>y_pred</th>\n",
       "      <th>y_train</th>\n",
       "    </tr>\n",
       "  </thead>\n",
       "  <tbody>\n",
       "    <tr>\n",
       "      <th>actual_0</th>\n",
       "      <td>True Negative: 2890</td>\n",
       "      <td>False Positive: 7</td>\n",
       "    </tr>\n",
       "    <tr>\n",
       "      <th>actual_1</th>\n",
       "      <td>False Negative: 939</td>\n",
       "      <td>True Positive: 107</td>\n",
       "    </tr>\n",
       "  </tbody>\n",
       "</table>\n",
       "</div>"
      ],
      "text/plain": [
       "                       y_pred             y_train\n",
       "actual_0  True Negative: 2890   False Positive: 7\n",
       "actual_1  False Negative: 939  True Positive: 107"
      ]
     },
     "execution_count": 45,
     "metadata": {},
     "output_type": "execute_result"
    }
   ],
   "source": [
    "# make a random forest\n",
    "rf = RandomForestClassifier(min_samples_leaf=3,\n",
    "                            max_depth=10,\n",
    "                            random_state=1349)\n",
    "# fit the train data\n",
    "rf.fit(X_train, y_train)\n",
    "\n",
    "# make prediction for X_train\n",
    "y_pred = rf.predict(X_train)\n",
    "\n",
    "# accuracy of random forest for train\n",
    "print('Accuracy of random forest classifier on training set: {:.2f}'\n",
    "     .format(rf.score(X_train, y_train)))\n",
    "\n",
    "# classification report for train dataset\n",
    "print(f'\\nClassification Report for Test Dataset: \\n{classification_report(y_train, y_pred)}')\n",
    "\n",
    "# value counts for train dataset\n",
    "print(f'\\nValue Counts for Train Dataset: \\n{y_train.value_counts()}')\n",
    "\n",
    "# confusion matrix\n",
    "print(f'\\nConfusion Matrix for Train Set: \\n{confusion_matrix(y_train, y_pred)}')\n",
    "\n",
    "con_mat = confusion_matrix(y_train, y_pred)\n",
    "rubric = pd.DataFrame(\n",
    "    {'y_pred': ['True Negative', 'False Negative'],\n",
    "     'y_train': ['False Positive', 'True Positive']\n",
    "    }, index=['actual_0','actual_1']\n",
    ")\n",
    "\n",
    "TN, FP, FN, TP = con_mat.ravel()\n",
    "accuracy = (TP + TN) / (TP + TN + FP + FN)\n",
    "TPR = recall = TP / (TP + FN)\n",
    "FPR = FP / (FP + TN)\n",
    "TNR = TN / (FP + TN)\n",
    "FNR = FN / (FN + TP)\n",
    "precision =  TP / (TP + FP)\n",
    "f1 =  2 * ((precision * recall) / ( precision + recall))\n",
    "support_0 = train[train.has_churned == 0].shape[0]\n",
    "support_1 = train[train.has_churned == 1].shape[0]\n",
    "print((f'\\nAccuracy: {accuracy} \\nTPR: {TPR} \\nFPR: {FPR} \\nTNR: {TNR} \\nFNR: {FNR} \\nPrecision: {precision} \\nRecall: {recall} \\nf1: {f1} \\nsupport_0: {support_0} \\nsupport_1: {support_1}'))\n",
    "\n",
    "rubric + ': ' + con_mat.astype(str)"
   ]
  },
  {
   "cell_type": "markdown",
   "id": "12c24f14",
   "metadata": {},
   "source": [
    "##### Evaluate model with validate"
   ]
  },
  {
   "cell_type": "code",
   "execution_count": 44,
   "id": "9eeabcc2",
   "metadata": {},
   "outputs": [
    {
     "name": "stdout",
     "output_type": "stream",
     "text": [
      "Accuracy of Random Forest classifier on validate set: 0.77\n",
      "\n",
      "Classification Report for Validate Dataset: \n",
      "              precision    recall  f1-score   support\n",
      "\n",
      "           0       0.77      0.99      0.86      1242\n",
      "           1       0.85      0.17      0.28       449\n",
      "\n",
      "    accuracy                           0.77      1691\n",
      "   macro avg       0.81      0.58      0.57      1691\n",
      "weighted avg       0.79      0.77      0.71      1691\n",
      "\n",
      "\n",
      "Value Counts for Validate Dataset: \n",
      "0    1242\n",
      "1     449\n",
      "Name: has_churned, dtype: int64\n",
      "\n",
      "Confusion Matrix for Validate Set: \n",
      "[[1229   13]\n",
      " [ 374   75]]\n",
      "\n",
      "Accuracy: 0.7711413364872857 \n",
      "TPR: 0.16703786191536749 \n",
      "FPR: 0.010466988727858293 \n",
      "TNR: 0.9895330112721417 \n",
      "FNR: 0.8329621380846325 \n",
      "Precision: 0.8522727272727273 \n",
      "Recall: 0.16703786191536749 \n",
      "f1: 0.2793296089385475 \n",
      "support_0: 0 \n",
      "support_1: 0\n"
     ]
    },
    {
     "data": {
      "text/html": [
       "<div>\n",
       "<style scoped>\n",
       "    .dataframe tbody tr th:only-of-type {\n",
       "        vertical-align: middle;\n",
       "    }\n",
       "\n",
       "    .dataframe tbody tr th {\n",
       "        vertical-align: top;\n",
       "    }\n",
       "\n",
       "    .dataframe thead th {\n",
       "        text-align: right;\n",
       "    }\n",
       "</style>\n",
       "<table border=\"1\" class=\"dataframe\">\n",
       "  <thead>\n",
       "    <tr style=\"text-align: right;\">\n",
       "      <th></th>\n",
       "      <th>y_pred</th>\n",
       "      <th>y_validate</th>\n",
       "    </tr>\n",
       "  </thead>\n",
       "  <tbody>\n",
       "    <tr>\n",
       "      <th>actual_0</th>\n",
       "      <td>True Negative: 1229</td>\n",
       "      <td>False Positive: 13</td>\n",
       "    </tr>\n",
       "    <tr>\n",
       "      <th>actual_1</th>\n",
       "      <td>False Negative: 374</td>\n",
       "      <td>True Positive: 75</td>\n",
       "    </tr>\n",
       "  </tbody>\n",
       "</table>\n",
       "</div>"
      ],
      "text/plain": [
       "                       y_pred          y_validate\n",
       "actual_0  True Negative: 1229  False Positive: 13\n",
       "actual_1  False Negative: 374   True Positive: 75"
      ]
     },
     "execution_count": 44,
     "metadata": {},
     "output_type": "execute_result"
    }
   ],
   "source": [
    "# fit the validate data\n",
    "rf.fit(X_validate, y_validate)\n",
    "\n",
    "# Produce y_predictions from the X_validate\n",
    "y_pred = rf.predict(X_validate)\n",
    "\n",
    "# Accuracy of random forest\n",
    "print('Accuracy of Random Forest classifier on validate set: {:.2f}'\n",
    "      .format(rf.score(X_validate, y_validate)))\n",
    "\n",
    "# classification report for validate dataset\n",
    "print(f'\\nClassification Report for Validate Dataset: \\n{classification_report(y_validate, y_pred)}')\n",
    "\n",
    "# value counts for validate dataset\n",
    "print(f'\\nValue Counts for Validate Dataset: \\n{y_validate.value_counts()}')\n",
    "\n",
    "# confusion matrix\n",
    "print(f'\\nConfusion Matrix for Validate Set: \\n{confusion_matrix(y_validate, y_pred)}')\n",
    "\n",
    "con_mat = confusion_matrix(y_validate, y_pred)\n",
    "rubric = pd.DataFrame(\n",
    "    {'y_pred': ['True Negative', 'False Negative'],\n",
    "     'y_validate': ['False Positive', 'True Positive']\n",
    "    }, index=['actual_0','actual_1']\n",
    ")\n",
    "\n",
    "TN, FP, FN, TP = con_mat.ravel()\n",
    "accuracy = (TP + TN) / (TP + TN + FP + FN)\n",
    "TPR = recall = TP / (TP + FN)\n",
    "FPR = FP / (FP + TN)\n",
    "TNR = TN / (FP + TN)\n",
    "FNR = FN / (FN + TP)\n",
    "precision =  TP / (TP + FP)\n",
    "f1 =  2 * ((precision * recall) / ( precision + recall))\n",
    "support_0 = validate[validate.has_churned == 0].shape[0]\n",
    "support_1 = validate[validate.has_churned == 1].shape[0]\n",
    "print((f'\\nAccuracy: {accuracy} \\nTPR: {TPR} \\nFPR: {FPR} \\nTNR: {TNR} \\nFNR: {FNR} \\nPrecision: {precision} \\nRecall: {recall} \\nf1: {f1} \\nsupport_0: {support_0} \\nsupport_1: {support_1}'))\n",
    "\n",
    "rubric + ': ' + con_mat.astype(str)"
   ]
  },
  {
   "cell_type": "markdown",
   "id": "9df80a54",
   "metadata": {},
   "source": [
    "##### Evaluate on Test"
   ]
  },
  {
   "cell_type": "code",
   "execution_count": 43,
   "id": "08ecdcee",
   "metadata": {},
   "outputs": [
    {
     "name": "stdout",
     "output_type": "stream",
     "text": [
      "Accuracy of random forest classifier on test set: 0.80\n",
      "\n",
      "Classification Report for Test Dataset: \n",
      "              precision    recall  f1-score   support\n",
      "\n",
      "           0       0.79      0.98      0.88      1035\n",
      "           1       0.86      0.29      0.43       374\n",
      "\n",
      "    accuracy                           0.80      1409\n",
      "   macro avg       0.82      0.64      0.65      1409\n",
      "weighted avg       0.81      0.80      0.76      1409\n",
      "\n",
      "\n",
      "Value Counts for Test Dataset: \n",
      "0    1035\n",
      "1     374\n",
      "Name: has_churned, dtype: int64\n",
      "\n",
      "Confusion Matrix for Test Set: \n",
      "[[1017   18]\n",
      " [ 266  108]]\n",
      "\n",
      "Accuracy: 0.7984386089425124 \n",
      "TPR: 0.2887700534759358 \n",
      "FPR: 0.017391304347826087 \n",
      "TNR: 0.9826086956521739 \n",
      "FNR: 0.7112299465240641 \n",
      "Precision: 0.8571428571428571 \n",
      "Recall: 0.2887700534759358 \n",
      "f1: 0.432 \n",
      "support_0: 0 \n",
      "support_1: 0\n"
     ]
    },
    {
     "data": {
      "text/html": [
       "<div>\n",
       "<style scoped>\n",
       "    .dataframe tbody tr th:only-of-type {\n",
       "        vertical-align: middle;\n",
       "    }\n",
       "\n",
       "    .dataframe tbody tr th {\n",
       "        vertical-align: top;\n",
       "    }\n",
       "\n",
       "    .dataframe thead th {\n",
       "        text-align: right;\n",
       "    }\n",
       "</style>\n",
       "<table border=\"1\" class=\"dataframe\">\n",
       "  <thead>\n",
       "    <tr style=\"text-align: right;\">\n",
       "      <th></th>\n",
       "      <th>y_pred</th>\n",
       "      <th>y_test</th>\n",
       "    </tr>\n",
       "  </thead>\n",
       "  <tbody>\n",
       "    <tr>\n",
       "      <th>actual_0</th>\n",
       "      <td>True Negative: 1017</td>\n",
       "      <td>False Positive: 18</td>\n",
       "    </tr>\n",
       "    <tr>\n",
       "      <th>actual_1</th>\n",
       "      <td>False Negative: 266</td>\n",
       "      <td>True Positive: 108</td>\n",
       "    </tr>\n",
       "  </tbody>\n",
       "</table>\n",
       "</div>"
      ],
      "text/plain": [
       "                       y_pred              y_test\n",
       "actual_0  True Negative: 1017  False Positive: 18\n",
       "actual_1  False Negative: 266  True Positive: 108"
      ]
     },
     "execution_count": 43,
     "metadata": {},
     "output_type": "execute_result"
    }
   ],
   "source": [
    "# fit the test data\n",
    "rf.fit(X_test, y_test)\n",
    "\n",
    "# make prediction for X_test\n",
    "y_pred = rf.predict(X_test)\n",
    "\n",
    "# accuracy of random forest for test\n",
    "print('Accuracy of random forest classifier on test set: {:.2f}'\n",
    "     .format(rf.score(X_test, y_test)))\n",
    "\n",
    "# classification report for test dataset\n",
    "print(f'\\nClassification Report for Test Dataset: \\n{classification_report(y_test, y_pred)}')\n",
    "\n",
    "# value counts for test dataset\n",
    "print(f'\\nValue Counts for Test Dataset: \\n{y_test.value_counts()}')\n",
    "\n",
    "# confusion matrix\n",
    "print(f'\\nConfusion Matrix for Test Set: \\n{confusion_matrix(y_test, y_pred)}')\n",
    "\n",
    "con_mat = confusion_matrix(y_test, y_pred)\n",
    "rubric = pd.DataFrame(\n",
    "    {'y_pred': ['True Negative', 'False Negative'],\n",
    "     'y_test': ['False Positive', 'True Positive']\n",
    "    }, index=['actual_0','actual_1']\n",
    ")\n",
    "\n",
    "TN, FP, FN, TP = con_mat.ravel()\n",
    "accuracy = (TP + TN) / (TP + TN + FP + FN)\n",
    "TPR = recall = TP / (TP + FN)\n",
    "FPR = FP / (FP + TN)\n",
    "TNR = TN / (FP + TN)\n",
    "FNR = FN / (FN + TP)\n",
    "precision =  TP / (TP + FP)\n",
    "f1 =  2 * ((precision * recall) / ( precision + recall))\n",
    "support_0 = test[test.has_churned == 0].shape[0]\n",
    "support_1 = test[test.has_churned == 1].shape[0]\n",
    "print((f'\\nAccuracy: {accuracy} \\nTPR: {TPR} \\nFPR: {FPR} \\nTNR: {TNR} \\nFNR: {FNR} \\nPrecision: {precision} \\nRecall: {recall} \\nf1: {f1} \\nsupport_0: {support_0} \\nsupport_1: {support_1}'))\n",
    "\n",
    "rubric + ': ' + con_mat.astype(str)"
   ]
  },
  {
   "cell_type": "code",
   "execution_count": null,
   "id": "1901e3ba",
   "metadata": {},
   "outputs": [],
   "source": []
  },
  {
   "cell_type": "code",
   "execution_count": 46,
   "id": "9b081911",
   "metadata": {},
   "outputs": [],
   "source": [
    "# I perhaps would do the same thing I did before with a loop!\n",
    "rf_model_dict = {}\n",
    "for i in [pair for pair in zip(range(1,10), \n",
    "                                range(10,1,-1))]:\n",
    "    clf = RandomForestClassifier(min_samples_leaf=i[0],\n",
    "                                 max_depth=i[1])\n",
    "    clf.fit(X_train, y_train)\n",
    "    # make a dictionary inside of my model_dictionary\n",
    "    rf_model_dict[f'rf_{i[0]}'] =  {}\n",
    "    # in the sub-dictionary:\n",
    "    # assign the model object\n",
    "    rf_model_dict[f'rf_{i[0]}']['model'] = clf\n",
    "    #assign the train score\n",
    "    rf_model_dict[f'rf_{i[0]}']['train_score'] = \\\n",
    "    clf.score(X_train, y_train)\n",
    "    # assign the validate score\n",
    "    rf_model_dict[f'rf_{i[0]}']['val_score'] = \\\n",
    "    clf.score(X_validate, y_validate)\n",
    "    # assign the validation dropoff\n",
    "    rf_model_dict[f'rf_{i[0]}']['val_diff'] = \\\n",
    "    clf.score(X_train, y_train) - clf.score(X_validate, y_validate)"
   ]
  },
  {
   "cell_type": "code",
   "execution_count": 47,
   "id": "7787e5d3",
   "metadata": {},
   "outputs": [
    {
     "data": {
      "text/plain": [
       "{'rf_1': {'model': RandomForestClassifier(max_depth=10),\n",
       "  'train_score': 0.7699721024600558,\n",
       "  'val_score': 0.7238320520402128,\n",
       "  'val_diff': 0.046140050419842926},\n",
       " 'rf_2': {'model': RandomForestClassifier(max_depth=9, min_samples_leaf=2),\n",
       "  'train_score': 0.7532335784935329,\n",
       "  'val_score': 0.7261975162625666,\n",
       "  'val_diff': 0.02703606223096633},\n",
       " 'rf_3': {'model': RandomForestClassifier(max_depth=8, min_samples_leaf=3),\n",
       "  'train_score': 0.7425817905148364,\n",
       "  'val_score': 0.7285629804849202,\n",
       "  'val_diff': 0.014018810029916229},\n",
       " 'rf_4': {'model': RandomForestClassifier(max_depth=7, min_samples_leaf=4),\n",
       "  'train_score': 0.7370022825259954,\n",
       "  'val_score': 0.7315198107628622,\n",
       "  'val_diff': 0.005482471763133212},\n",
       " 'rf_5': {'model': RandomForestClassifier(max_depth=6, min_samples_leaf=5),\n",
       "  'train_score': 0.7347197565305605,\n",
       "  'val_score': 0.7344766410408042,\n",
       "  'val_diff': 0.00024311548975630703},\n",
       " 'rf_6': {'model': RandomForestClassifier(max_depth=5, min_samples_leaf=6),\n",
       "  'train_score': 0.7347197565305605,\n",
       "  'val_score': 0.7344766410408042,\n",
       "  'val_diff': 0.00024311548975630703},\n",
       " 'rf_7': {'model': RandomForestClassifier(max_depth=4, min_samples_leaf=7),\n",
       "  'train_score': 0.7347197565305605,\n",
       "  'val_score': 0.7344766410408042,\n",
       "  'val_diff': 0.00024311548975630703},\n",
       " 'rf_8': {'model': RandomForestClassifier(max_depth=3, min_samples_leaf=8),\n",
       "  'train_score': 0.7347197565305605,\n",
       "  'val_score': 0.7344766410408042,\n",
       "  'val_diff': 0.00024311548975630703},\n",
       " 'rf_9': {'model': RandomForestClassifier(max_depth=2, min_samples_leaf=9),\n",
       "  'train_score': 0.7347197565305605,\n",
       "  'val_score': 0.7344766410408042,\n",
       "  'val_diff': 0.00024311548975630703}}"
      ]
     },
     "execution_count": 47,
     "metadata": {},
     "output_type": "execute_result"
    }
   ],
   "source": [
    "rf_model_dict"
   ]
  },
  {
   "cell_type": "code",
   "execution_count": 48,
   "id": "3432d68e",
   "metadata": {},
   "outputs": [],
   "source": [
    "max_score = 0\n",
    "for model in rf_model_dict:\n",
    "    if rf_model_dict[model]['val_score'] > max_score:\n",
    "        max_score = rf_model_dict[model]['val_score']\n",
    "        model_name = model\n"
   ]
  },
  {
   "cell_type": "code",
   "execution_count": 49,
   "id": "cf4ac288",
   "metadata": {},
   "outputs": [
    {
     "data": {
      "text/plain": [
       "0.7344766410408042"
      ]
     },
     "execution_count": 49,
     "metadata": {},
     "output_type": "execute_result"
    }
   ],
   "source": [
    "max_score"
   ]
  },
  {
   "cell_type": "code",
   "execution_count": 50,
   "id": "703d61a2",
   "metadata": {},
   "outputs": [
    {
     "data": {
      "text/plain": [
       "'rf_9'"
      ]
     },
     "execution_count": 50,
     "metadata": {},
     "output_type": "execute_result"
    }
   ],
   "source": [
    "model"
   ]
  },
  {
   "cell_type": "code",
   "execution_count": 51,
   "id": "116da62a",
   "metadata": {},
   "outputs": [
    {
     "data": {
      "text/html": [
       "<style>#sk-container-id-1 {color: black;background-color: white;}#sk-container-id-1 pre{padding: 0;}#sk-container-id-1 div.sk-toggleable {background-color: white;}#sk-container-id-1 label.sk-toggleable__label {cursor: pointer;display: block;width: 100%;margin-bottom: 0;padding: 0.3em;box-sizing: border-box;text-align: center;}#sk-container-id-1 label.sk-toggleable__label-arrow:before {content: \"▸\";float: left;margin-right: 0.25em;color: #696969;}#sk-container-id-1 label.sk-toggleable__label-arrow:hover:before {color: black;}#sk-container-id-1 div.sk-estimator:hover label.sk-toggleable__label-arrow:before {color: black;}#sk-container-id-1 div.sk-toggleable__content {max-height: 0;max-width: 0;overflow: hidden;text-align: left;background-color: #f0f8ff;}#sk-container-id-1 div.sk-toggleable__content pre {margin: 0.2em;color: black;border-radius: 0.25em;background-color: #f0f8ff;}#sk-container-id-1 input.sk-toggleable__control:checked~div.sk-toggleable__content {max-height: 200px;max-width: 100%;overflow: auto;}#sk-container-id-1 input.sk-toggleable__control:checked~label.sk-toggleable__label-arrow:before {content: \"▾\";}#sk-container-id-1 div.sk-estimator input.sk-toggleable__control:checked~label.sk-toggleable__label {background-color: #d4ebff;}#sk-container-id-1 div.sk-label input.sk-toggleable__control:checked~label.sk-toggleable__label {background-color: #d4ebff;}#sk-container-id-1 input.sk-hidden--visually {border: 0;clip: rect(1px 1px 1px 1px);clip: rect(1px, 1px, 1px, 1px);height: 1px;margin: -1px;overflow: hidden;padding: 0;position: absolute;width: 1px;}#sk-container-id-1 div.sk-estimator {font-family: monospace;background-color: #f0f8ff;border: 1px dotted black;border-radius: 0.25em;box-sizing: border-box;margin-bottom: 0.5em;}#sk-container-id-1 div.sk-estimator:hover {background-color: #d4ebff;}#sk-container-id-1 div.sk-parallel-item::after {content: \"\";width: 100%;border-bottom: 1px solid gray;flex-grow: 1;}#sk-container-id-1 div.sk-label:hover label.sk-toggleable__label {background-color: #d4ebff;}#sk-container-id-1 div.sk-serial::before {content: \"\";position: absolute;border-left: 1px solid gray;box-sizing: border-box;top: 0;bottom: 0;left: 50%;z-index: 0;}#sk-container-id-1 div.sk-serial {display: flex;flex-direction: column;align-items: center;background-color: white;padding-right: 0.2em;padding-left: 0.2em;position: relative;}#sk-container-id-1 div.sk-item {position: relative;z-index: 1;}#sk-container-id-1 div.sk-parallel {display: flex;align-items: stretch;justify-content: center;background-color: white;position: relative;}#sk-container-id-1 div.sk-item::before, #sk-container-id-1 div.sk-parallel-item::before {content: \"\";position: absolute;border-left: 1px solid gray;box-sizing: border-box;top: 0;bottom: 0;left: 50%;z-index: -1;}#sk-container-id-1 div.sk-parallel-item {display: flex;flex-direction: column;z-index: 1;position: relative;background-color: white;}#sk-container-id-1 div.sk-parallel-item:first-child::after {align-self: flex-end;width: 50%;}#sk-container-id-1 div.sk-parallel-item:last-child::after {align-self: flex-start;width: 50%;}#sk-container-id-1 div.sk-parallel-item:only-child::after {width: 0;}#sk-container-id-1 div.sk-dashed-wrapped {border: 1px dashed gray;margin: 0 0.4em 0.5em 0.4em;box-sizing: border-box;padding-bottom: 0.4em;background-color: white;}#sk-container-id-1 div.sk-label label {font-family: monospace;font-weight: bold;display: inline-block;line-height: 1.2em;}#sk-container-id-1 div.sk-label-container {text-align: center;}#sk-container-id-1 div.sk-container {/* jupyter's `normalize.less` sets `[hidden] { display: none; }` but bootstrap.min.css set `[hidden] { display: none !important; }` so we also need the `!important` here to be able to override the default hidden behavior on the sphinx rendered scikit-learn.org. See: https://github.com/scikit-learn/scikit-learn/issues/21755 */display: inline-block !important;position: relative;}#sk-container-id-1 div.sk-text-repr-fallback {display: none;}</style><div id=\"sk-container-id-1\" class=\"sk-top-container\"><div class=\"sk-text-repr-fallback\"><pre>RandomForestClassifier(max_depth=2, min_samples_leaf=9)</pre><b>In a Jupyter environment, please rerun this cell to show the HTML representation or trust the notebook. <br />On GitHub, the HTML representation is unable to render, please try loading this page with nbviewer.org.</b></div><div class=\"sk-container\" hidden><div class=\"sk-item\"><div class=\"sk-estimator sk-toggleable\"><input class=\"sk-toggleable__control sk-hidden--visually\" id=\"sk-estimator-id-1\" type=\"checkbox\" checked><label for=\"sk-estimator-id-1\" class=\"sk-toggleable__label sk-toggleable__label-arrow\">RandomForestClassifier</label><div class=\"sk-toggleable__content\"><pre>RandomForestClassifier(max_depth=2, min_samples_leaf=9)</pre></div></div></div></div></div>"
      ],
      "text/plain": [
       "RandomForestClassifier(max_depth=2, min_samples_leaf=9)"
      ]
     },
     "execution_count": 51,
     "metadata": {},
     "output_type": "execute_result"
    }
   ],
   "source": [
    "rf_model_dict['rf_9']['model']"
   ]
  },
  {
   "cell_type": "code",
   "execution_count": 52,
   "id": "a43e7029",
   "metadata": {},
   "outputs": [
    {
     "data": {
      "text/plain": [
       "1691"
      ]
     },
     "execution_count": 52,
     "metadata": {},
     "output_type": "execute_result"
    }
   ],
   "source": [
    "len([0 for i in range(0, validate.shape[0])])"
   ]
  },
  {
   "cell_type": "code",
   "execution_count": 60,
   "id": "b4d014a3",
   "metadata": {},
   "outputs": [
    {
     "data": {
      "text/html": [
       "<div>\n",
       "<style scoped>\n",
       "    .dataframe tbody tr th:only-of-type {\n",
       "        vertical-align: middle;\n",
       "    }\n",
       "\n",
       "    .dataframe tbody tr th {\n",
       "        vertical-align: top;\n",
       "    }\n",
       "\n",
       "    .dataframe thead th {\n",
       "        text-align: right;\n",
       "    }\n",
       "</style>\n",
       "<table border=\"1\" class=\"dataframe\">\n",
       "  <thead>\n",
       "    <tr style=\"text-align: right;\">\n",
       "      <th></th>\n",
       "      <th>baseline</th>\n",
       "      <th>y_true</th>\n",
       "      <th>rf_1</th>\n",
       "      <th>rf_2</th>\n",
       "      <th>rf_3</th>\n",
       "      <th>rf_4</th>\n",
       "      <th>rf_5</th>\n",
       "      <th>rf_6</th>\n",
       "      <th>rf_7</th>\n",
       "      <th>rf_8</th>\n",
       "      <th>rf_9</th>\n",
       "    </tr>\n",
       "  </thead>\n",
       "  <tbody>\n",
       "    <tr>\n",
       "      <th>0</th>\n",
       "      <td>0</td>\n",
       "      <td>1</td>\n",
       "      <td>0</td>\n",
       "      <td>0</td>\n",
       "      <td>0</td>\n",
       "      <td>0</td>\n",
       "      <td>0</td>\n",
       "      <td>0</td>\n",
       "      <td>0</td>\n",
       "      <td>0</td>\n",
       "      <td>0</td>\n",
       "    </tr>\n",
       "    <tr>\n",
       "      <th>1</th>\n",
       "      <td>0</td>\n",
       "      <td>1</td>\n",
       "      <td>0</td>\n",
       "      <td>0</td>\n",
       "      <td>0</td>\n",
       "      <td>0</td>\n",
       "      <td>0</td>\n",
       "      <td>0</td>\n",
       "      <td>0</td>\n",
       "      <td>0</td>\n",
       "      <td>0</td>\n",
       "    </tr>\n",
       "    <tr>\n",
       "      <th>2</th>\n",
       "      <td>0</td>\n",
       "      <td>0</td>\n",
       "      <td>0</td>\n",
       "      <td>0</td>\n",
       "      <td>0</td>\n",
       "      <td>0</td>\n",
       "      <td>0</td>\n",
       "      <td>0</td>\n",
       "      <td>0</td>\n",
       "      <td>0</td>\n",
       "      <td>0</td>\n",
       "    </tr>\n",
       "    <tr>\n",
       "      <th>3</th>\n",
       "      <td>0</td>\n",
       "      <td>0</td>\n",
       "      <td>0</td>\n",
       "      <td>0</td>\n",
       "      <td>0</td>\n",
       "      <td>0</td>\n",
       "      <td>0</td>\n",
       "      <td>0</td>\n",
       "      <td>0</td>\n",
       "      <td>0</td>\n",
       "      <td>0</td>\n",
       "    </tr>\n",
       "    <tr>\n",
       "      <th>4</th>\n",
       "      <td>0</td>\n",
       "      <td>1</td>\n",
       "      <td>0</td>\n",
       "      <td>0</td>\n",
       "      <td>0</td>\n",
       "      <td>0</td>\n",
       "      <td>0</td>\n",
       "      <td>0</td>\n",
       "      <td>0</td>\n",
       "      <td>0</td>\n",
       "      <td>0</td>\n",
       "    </tr>\n",
       "    <tr>\n",
       "      <th>...</th>\n",
       "      <td>...</td>\n",
       "      <td>...</td>\n",
       "      <td>...</td>\n",
       "      <td>...</td>\n",
       "      <td>...</td>\n",
       "      <td>...</td>\n",
       "      <td>...</td>\n",
       "      <td>...</td>\n",
       "      <td>...</td>\n",
       "      <td>...</td>\n",
       "      <td>...</td>\n",
       "    </tr>\n",
       "    <tr>\n",
       "      <th>1686</th>\n",
       "      <td>0</td>\n",
       "      <td>0</td>\n",
       "      <td>0</td>\n",
       "      <td>0</td>\n",
       "      <td>0</td>\n",
       "      <td>0</td>\n",
       "      <td>0</td>\n",
       "      <td>0</td>\n",
       "      <td>0</td>\n",
       "      <td>0</td>\n",
       "      <td>0</td>\n",
       "    </tr>\n",
       "    <tr>\n",
       "      <th>1687</th>\n",
       "      <td>0</td>\n",
       "      <td>1</td>\n",
       "      <td>0</td>\n",
       "      <td>0</td>\n",
       "      <td>0</td>\n",
       "      <td>0</td>\n",
       "      <td>0</td>\n",
       "      <td>0</td>\n",
       "      <td>0</td>\n",
       "      <td>0</td>\n",
       "      <td>0</td>\n",
       "    </tr>\n",
       "    <tr>\n",
       "      <th>1688</th>\n",
       "      <td>0</td>\n",
       "      <td>0</td>\n",
       "      <td>0</td>\n",
       "      <td>0</td>\n",
       "      <td>0</td>\n",
       "      <td>0</td>\n",
       "      <td>0</td>\n",
       "      <td>0</td>\n",
       "      <td>0</td>\n",
       "      <td>0</td>\n",
       "      <td>0</td>\n",
       "    </tr>\n",
       "    <tr>\n",
       "      <th>1689</th>\n",
       "      <td>0</td>\n",
       "      <td>0</td>\n",
       "      <td>0</td>\n",
       "      <td>0</td>\n",
       "      <td>0</td>\n",
       "      <td>0</td>\n",
       "      <td>0</td>\n",
       "      <td>0</td>\n",
       "      <td>0</td>\n",
       "      <td>0</td>\n",
       "      <td>0</td>\n",
       "    </tr>\n",
       "    <tr>\n",
       "      <th>1690</th>\n",
       "      <td>0</td>\n",
       "      <td>0</td>\n",
       "      <td>0</td>\n",
       "      <td>0</td>\n",
       "      <td>0</td>\n",
       "      <td>0</td>\n",
       "      <td>0</td>\n",
       "      <td>0</td>\n",
       "      <td>0</td>\n",
       "      <td>0</td>\n",
       "      <td>0</td>\n",
       "    </tr>\n",
       "  </tbody>\n",
       "</table>\n",
       "<p>1691 rows × 11 columns</p>\n",
       "</div>"
      ],
      "text/plain": [
       "      baseline y_true rf_1 rf_2 rf_3 rf_4 rf_5 rf_6 rf_7 rf_8 rf_9\n",
       "0            0      1    0    0    0    0    0    0    0    0    0\n",
       "1            0      1    0    0    0    0    0    0    0    0    0\n",
       "2            0      0    0    0    0    0    0    0    0    0    0\n",
       "3            0      0    0    0    0    0    0    0    0    0    0\n",
       "4            0      1    0    0    0    0    0    0    0    0    0\n",
       "...        ...    ...  ...  ...  ...  ...  ...  ...  ...  ...  ...\n",
       "1686         0      0    0    0    0    0    0    0    0    0    0\n",
       "1687         0      1    0    0    0    0    0    0    0    0    0\n",
       "1688         0      0    0    0    0    0    0    0    0    0    0\n",
       "1689         0      0    0    0    0    0    0    0    0    0    0\n",
       "1690         0      0    0    0    0    0    0    0    0    0    0\n",
       "\n",
       "[1691 rows x 11 columns]"
      ]
     },
     "execution_count": 60,
     "metadata": {},
     "output_type": "execute_result"
    }
   ],
   "source": [
    "# Prediction DataFrame!\n",
    "pred_df = pd.DataFrame(\n",
    "    {\n",
    "        'baseline': [0 for i in range(\n",
    "        0, validate.shape[0])],\n",
    "        'y_true': y_validate.values\n",
    "    }\n",
    ")\n",
    "\n",
    "for model in rf_model_dict:\n",
    "    model_preds = rf_model_dict[model]['model'].predict(X_validate)\n",
    "    pred_df[model] = model_preds\n",
    "    \n",
    "pred_df"
   ]
  },
  {
   "cell_type": "code",
   "execution_count": 64,
   "id": "a90457f5",
   "metadata": {},
   "outputs": [
    {
     "data": {
      "text/plain": [
       "dict_keys(['rf_1', 'rf_2', 'rf_3', 'rf_4', 'rf_5', 'rf_6', 'rf_7', 'rf_8', 'rf_9'])"
      ]
     },
     "execution_count": 64,
     "metadata": {},
     "output_type": "execute_result"
    }
   ],
   "source": [
    "rf_model_dict.keys()"
   ]
  },
  {
   "cell_type": "code",
   "execution_count": 65,
   "id": "5fece37f",
   "metadata": {},
   "outputs": [
    {
     "data": {
      "text/plain": [
       "dict_keys(['model', 'train_score', 'val_score', 'val_diff'])"
      ]
     },
     "execution_count": 65,
     "metadata": {},
     "output_type": "execute_result"
    }
   ],
   "source": [
    "rf_model_dict['rf_1'].keys()\n"
   ]
  },
  {
   "cell_type": "code",
   "execution_count": 66,
   "id": "6c7b1842",
   "metadata": {},
   "outputs": [
    {
     "data": {
      "text/plain": [
       "[0.7745371544509256,\n",
       " 0.7517118944965762,\n",
       " 0.7433426325133148,\n",
       " 0.7354805985290388,\n",
       " 0.7347197565305605,\n",
       " 0.7347197565305605,\n",
       " 0.7347197565305605,\n",
       " 0.7347197565305605,\n",
       " 0.7347197565305605]"
      ]
     },
     "execution_count": 66,
     "metadata": {},
     "output_type": "execute_result"
    }
   ],
   "source": [
    "[rf_model_dict[model]['train_score'] \n",
    " for model in rf_model_dict]\n"
   ]
  },
  {
   "cell_type": "code",
   "execution_count": 61,
   "id": "4835e315",
   "metadata": {},
   "outputs": [
    {
     "data": {
      "text/html": [
       "<div>\n",
       "<style scoped>\n",
       "    .dataframe tbody tr th:only-of-type {\n",
       "        vertical-align: middle;\n",
       "    }\n",
       "\n",
       "    .dataframe tbody tr th {\n",
       "        vertical-align: top;\n",
       "    }\n",
       "\n",
       "    .dataframe thead th {\n",
       "        text-align: right;\n",
       "    }\n",
       "</style>\n",
       "<table border=\"1\" class=\"dataframe\">\n",
       "  <thead>\n",
       "    <tr style=\"text-align: right;\">\n",
       "      <th></th>\n",
       "      <th>model</th>\n",
       "      <th>train_accuracy</th>\n",
       "      <th>val_accuracy</th>\n",
       "      <th>diff</th>\n",
       "    </tr>\n",
       "  </thead>\n",
       "  <tbody>\n",
       "    <tr>\n",
       "      <th>0</th>\n",
       "      <td>rf_1</td>\n",
       "      <td>0.769972</td>\n",
       "      <td>0.723832</td>\n",
       "      <td>0.046140</td>\n",
       "    </tr>\n",
       "    <tr>\n",
       "      <th>1</th>\n",
       "      <td>rf_2</td>\n",
       "      <td>0.753234</td>\n",
       "      <td>0.726198</td>\n",
       "      <td>0.027036</td>\n",
       "    </tr>\n",
       "    <tr>\n",
       "      <th>2</th>\n",
       "      <td>rf_3</td>\n",
       "      <td>0.742582</td>\n",
       "      <td>0.728563</td>\n",
       "      <td>0.014019</td>\n",
       "    </tr>\n",
       "    <tr>\n",
       "      <th>3</th>\n",
       "      <td>rf_4</td>\n",
       "      <td>0.737002</td>\n",
       "      <td>0.731520</td>\n",
       "      <td>0.005482</td>\n",
       "    </tr>\n",
       "    <tr>\n",
       "      <th>4</th>\n",
       "      <td>rf_5</td>\n",
       "      <td>0.734720</td>\n",
       "      <td>0.734477</td>\n",
       "      <td>0.000243</td>\n",
       "    </tr>\n",
       "    <tr>\n",
       "      <th>5</th>\n",
       "      <td>rf_6</td>\n",
       "      <td>0.734720</td>\n",
       "      <td>0.734477</td>\n",
       "      <td>0.000243</td>\n",
       "    </tr>\n",
       "    <tr>\n",
       "      <th>6</th>\n",
       "      <td>rf_7</td>\n",
       "      <td>0.734720</td>\n",
       "      <td>0.734477</td>\n",
       "      <td>0.000243</td>\n",
       "    </tr>\n",
       "    <tr>\n",
       "      <th>7</th>\n",
       "      <td>rf_8</td>\n",
       "      <td>0.734720</td>\n",
       "      <td>0.734477</td>\n",
       "      <td>0.000243</td>\n",
       "    </tr>\n",
       "    <tr>\n",
       "      <th>8</th>\n",
       "      <td>rf_9</td>\n",
       "      <td>0.734720</td>\n",
       "      <td>0.734477</td>\n",
       "      <td>0.000243</td>\n",
       "    </tr>\n",
       "  </tbody>\n",
       "</table>\n",
       "</div>"
      ],
      "text/plain": [
       "  model  train_accuracy  val_accuracy      diff\n",
       "0  rf_1        0.769972      0.723832  0.046140\n",
       "1  rf_2        0.753234      0.726198  0.027036\n",
       "2  rf_3        0.742582      0.728563  0.014019\n",
       "3  rf_4        0.737002      0.731520  0.005482\n",
       "4  rf_5        0.734720      0.734477  0.000243\n",
       "5  rf_6        0.734720      0.734477  0.000243\n",
       "6  rf_7        0.734720      0.734477  0.000243\n",
       "7  rf_8        0.734720      0.734477  0.000243\n",
       "8  rf_9        0.734720      0.734477  0.000243"
      ]
     },
     "execution_count": 61,
     "metadata": {},
     "output_type": "execute_result"
    }
   ],
   "source": [
    "accuracy_df = pd.DataFrame(\n",
    " {\n",
    "     'model':[model for model in rf_model_dict],\n",
    "     'train_accuracy':[rf_model_dict[model]['train_score'] for model in rf_model_dict],\n",
    "     'val_accuracy': [rf_model_dict[model]['val_score'] for model in rf_model_dict],\n",
    "     'diff': [rf_model_dict[model]['val_diff'] for model in rf_model_dict]\n",
    " }\n",
    ")\n",
    "accuracy_df"
   ]
  },
  {
   "cell_type": "code",
   "execution_count": 70,
   "id": "09b2f5af",
   "metadata": {},
   "outputs": [
    {
     "data": {
      "text/plain": [
       "<AxesSubplot:title={'center':'performance over depth of RF'}>"
      ]
     },
     "execution_count": 70,
     "metadata": {},
     "output_type": "execute_result"
    },
    {
     "data": {
      "image/png": "[encoded data removed]",
      "text/plain": [
       "<Figure size 2000x1500 with 1 Axes>"
      ]
     },
     "metadata": {},
     "output_type": "display_data"
    }
   ],
   "source": [
    "accuracy_df.set_index(accuracy_df.index + 1).plot(title='performance over depth of RF', figsize=(20,15))"
   ]
  },
  {
   "cell_type": "code",
   "execution_count": 71,
   "id": "af257a6a",
   "metadata": {},
   "outputs": [
    {
     "data": {
      "text/plain": [
       "'rf_5'"
      ]
     },
     "execution_count": 71,
     "metadata": {},
     "output_type": "execute_result"
    }
   ],
   "source": [
    "model_name"
   ]
  },
  {
   "cell_type": "code",
   "execution_count": 72,
   "id": "ba792ea0",
   "metadata": {},
   "outputs": [
    {
     "data": {
      "text/plain": [
       "{'model': RandomForestClassifier(max_depth=9, min_samples_leaf=2),\n",
       " 'train_score': 0.7517118944965762,\n",
       " 'val_score': 0.7244234180958014,\n",
       " 'val_diff': 0.027288476400774808}"
      ]
     },
     "execution_count": 72,
     "metadata": {},
     "output_type": "execute_result"
    }
   ],
   "source": [
    "rf_model_dict['rf_2']"
   ]
  },
  {
   "cell_type": "code",
   "execution_count": 73,
   "id": "86999c09",
   "metadata": {},
   "outputs": [],
   "source": [
    "test_preds = rf_model_dict['rf_2']['model'].predict(\n",
    "    test[X_cols])\n",
    "test_score = rf_model_dict['rf_2']['model'].score(\n",
    "    test[X_cols],test[y_col])"
   ]
  },
  {
   "cell_type": "code",
   "execution_count": 74,
   "id": "9cd220bc",
   "metadata": {},
   "outputs": [
    {
     "data": {
      "text/plain": [
       "0.7253371185237757"
      ]
     },
     "execution_count": 74,
     "metadata": {},
     "output_type": "execute_result"
    }
   ],
   "source": [
    "test_score"
   ]
  },
  {
   "cell_type": "markdown",
   "id": "416b6f9c",
   "metadata": {},
   "source": [
    "##### Logistic Regression"
   ]
  },
  {
   "cell_type": "code",
   "execution_count": 63,
   "id": "683cba8e",
   "metadata": {},
   "outputs": [],
   "source": [
    "from sklearn.linear_model import LogisticRegression"
   ]
  },
  {
   "cell_type": "code",
   "execution_count": 69,
   "id": "17d40aaa",
   "metadata": {},
   "outputs": [
    {
     "data": {
      "text/plain": [
       "0.7347197565305605"
      ]
     },
     "execution_count": 69,
     "metadata": {},
     "output_type": "execute_result"
    }
   ],
   "source": [
    "# from sklearn.linear_model import LogisticRegression\n",
    "lr = LogisticRegression()\n",
    "lr.fit(X_train, y_train)\n",
    "lr.score(X_train, y_train)"
   ]
  },
  {
   "cell_type": "code",
   "execution_count": 66,
   "id": "731bb2b1",
   "metadata": {},
   "outputs": [
    {
     "name": "stdout",
     "output_type": "stream",
     "text": [
      "Coefficient: \n",
      " [[-1.65875776e-05 -4.53263793e-01 -2.41463290e-01 -5.56195842e-01\n",
      "   0.00000000e+00]]\n",
      "Intercept: \n",
      " [-0.47455424]\n"
     ]
    }
   ],
   "source": [
    "print('Coefficient: \\n', lr.coef_)\n",
    "print('Intercept: \\n', lr.intercept_)"
   ]
  },
  {
   "cell_type": "code",
   "execution_count": 71,
   "id": "dfa416a3",
   "metadata": {},
   "outputs": [
    {
     "name": "stdout",
     "output_type": "stream",
     "text": [
      "Accuracy of Logistic Regression classifier on training set: 0.73\n",
      "[[2897    0]\n",
      " [1046    0]]\n",
      "              precision    recall  f1-score   support\n",
      "\n",
      "           0       0.73      1.00      0.85      2897\n",
      "           1       0.00      0.00      0.00      1046\n",
      "\n",
      "    accuracy                           0.73      3943\n",
      "   macro avg       0.37      0.50      0.42      3943\n",
      "weighted avg       0.54      0.73      0.62      3943\n",
      "\n"
     ]
    }
   ],
   "source": [
    "y_pred = lr.predict(X_train)\n",
    "y_pred_proba = lr.predict_proba(X_train)\n",
    "print('Accuracy of Logistic Regression classifier on training set: {:.2f}'\n",
    "     .format(lr.score(X_train, y_train)))\n",
    "print(confusion_matrix(y_train, y_pred))\n",
    "print(classification_report(y_train, y_pred))"
   ]
  },
  {
   "cell_type": "code",
   "execution_count": null,
   "id": "ec3c1d01",
   "metadata": {},
   "outputs": [],
   "source": []
  },
  {
   "cell_type": "code",
   "execution_count": null,
   "id": "120447e6",
   "metadata": {},
   "outputs": [],
   "source": []
  },
  {
   "cell_type": "code",
   "execution_count": null,
   "id": "2535354e",
   "metadata": {},
   "outputs": [],
   "source": []
  },
  {
   "cell_type": "code",
   "execution_count": null,
   "id": "336f626c",
   "metadata": {},
   "outputs": [],
   "source": []
  }
 ],
 "metadata": {
  "kernelspec": {
   "display_name": "Python 3 (ipykernel)",
   "language": "python",
   "name": "python3"
  },
  "language_info": {
   "codemirror_mode": {
    "name": "ipython",
    "version": 3
   },
   "file_extension": ".py",
   "mimetype": "text/x-python",
   "name": "python",
   "nbconvert_exporter": "python",
   "pygments_lexer": "ipython3",
   "version": "3.9.13"
  }
 },
 "nbformat": 4,
 "nbformat_minor": 5
}
