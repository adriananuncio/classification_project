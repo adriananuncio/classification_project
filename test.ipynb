{
 "cells": [
  {
   "cell_type": "code",
   "execution_count": 1,
   "id": "64e762fa",
   "metadata": {},
   "outputs": [],
   "source": [
    "# Establish connection to Codeup database\n",
    "from env import host, user, password\n",
    "import os\n",
    "import acquire\n",
    "import accuracy_precision_recall\n",
    "\n",
    "\n",
    "# data prep\n",
    "import prep\n",
    "\n",
    "# data manipulation\n",
    "import pandas as pd\n",
    "import numpy as np\n",
    "\n",
    "# splitting and imputing functions\n",
    "from sklearn.model_selection import train_test_split\n",
    "from sklearn.impute import SimpleImputer\n",
    "\n",
    "# sklearn for modeling\n",
    "from sklearn.tree import DecisionTreeClassifier,\\\n",
    "export_text, \\\n",
    "plot_tree\n",
    "from sklearn.metrics import accuracy_score, \\\n",
    "classification_report, \\\n",
    "confusion_matrix\n",
    "from sklearn.ensemble import RandomForestClassifier\n",
    "\n",
    "# modeling\n",
    "import seaborn as sns\n",
    "import matplotlib.pyplot as plt\n"
   ]
  },
  {
   "cell_type": "code",
   "execution_count": 2,
   "id": "6e8cfc07",
   "metadata": {},
   "outputs": [],
   "source": [
    "# call telco data\n",
    "df = acquire.get_telco_data()"
   ]
  },
  {
   "cell_type": "code",
   "execution_count": 3,
   "id": "9986c59a",
   "metadata": {},
   "outputs": [
    {
     "name": "stdout",
     "output_type": "stream",
     "text": [
      "train -> (3943, 9)\n",
      "validate -> (1691, 9)\n",
      "test -> (1409, 9)\n"
     ]
    }
   ],
   "source": [
    "# validate function works\n",
    "train, validate, test = prep.prep_telco(df)\n",
    "\n",
    "print(f'train -> {train.shape}')\n",
    "print(f'validate -> {validate.shape}')\n",
    "print(f'test -> {test.shape}')"
   ]
  },
  {
   "cell_type": "code",
   "execution_count": 8,
   "id": "99f6cdf1",
   "metadata": {},
   "outputs": [
    {
     "data": {
      "text/plain": [
       "No     2897\n",
       "Yes    1046\n",
       "Name: churn, dtype: int64"
      ]
     },
     "execution_count": 8,
     "metadata": {},
     "output_type": "execute_result"
    }
   ],
   "source": [
    "# Which churn value has the greater val_count\n",
    "train.churn.value_counts()"
   ]
  },
  {
   "cell_type": "code",
   "execution_count": 9,
   "id": "3bebde3b",
   "metadata": {},
   "outputs": [],
   "source": [
    "# Create baseline prediction column 0 = 'no churn'\n",
    "train['baseline_prediction'] = '0'"
   ]
  },
  {
   "cell_type": "code",
   "execution_count": 10,
   "id": "c85302dd",
   "metadata": {},
   "outputs": [
    {
     "data": {
      "text/html": [
       "<div>\n",
       "<style scoped>\n",
       "    .dataframe tbody tr th:only-of-type {\n",
       "        vertical-align: middle;\n",
       "    }\n",
       "\n",
       "    .dataframe tbody tr th {\n",
       "        vertical-align: top;\n",
       "    }\n",
       "\n",
       "    .dataframe thead th {\n",
       "        text-align: right;\n",
       "    }\n",
       "</style>\n",
       "<table border=\"1\" class=\"dataframe\">\n",
       "  <thead>\n",
       "    <tr style=\"text-align: right;\">\n",
       "      <th></th>\n",
       "      <th>customer_id</th>\n",
       "      <th>senior_citizen</th>\n",
       "      <th>tenure</th>\n",
       "      <th>monthly_charges</th>\n",
       "      <th>total_charges</th>\n",
       "      <th>churn</th>\n",
       "      <th>single_line</th>\n",
       "      <th>no_phone_service</th>\n",
       "      <th>has_mult_lines</th>\n",
       "      <th>m_to_m_contract</th>\n",
       "      <th>...</th>\n",
       "      <th>not_streaming_tv</th>\n",
       "      <th>is_streaming_tv</th>\n",
       "      <th>not_streaming_movies</th>\n",
       "      <th>is_streaming_movies</th>\n",
       "      <th>is_male</th>\n",
       "      <th>has_partner</th>\n",
       "      <th>has_dependents</th>\n",
       "      <th>has_phone_serv</th>\n",
       "      <th>has_paperless_bill</th>\n",
       "      <th>baseline_prediction</th>\n",
       "    </tr>\n",
       "  </thead>\n",
       "  <tbody>\n",
       "    <tr>\n",
       "      <th>5310</th>\n",
       "      <td>7503-MIOGA</td>\n",
       "      <td>1</td>\n",
       "      <td>72</td>\n",
       "      <td>89.85</td>\n",
       "      <td>6697.35</td>\n",
       "      <td>No</td>\n",
       "      <td>0</td>\n",
       "      <td>0</td>\n",
       "      <td>1</td>\n",
       "      <td>0</td>\n",
       "      <td>...</td>\n",
       "      <td>0</td>\n",
       "      <td>1</td>\n",
       "      <td>0</td>\n",
       "      <td>1</td>\n",
       "      <td>0</td>\n",
       "      <td>1</td>\n",
       "      <td>0</td>\n",
       "      <td>1</td>\n",
       "      <td>1</td>\n",
       "      <td>0</td>\n",
       "    </tr>\n",
       "    <tr>\n",
       "      <th>3790</th>\n",
       "      <td>5329-KRDTM</td>\n",
       "      <td>1</td>\n",
       "      <td>72</td>\n",
       "      <td>77.35</td>\n",
       "      <td>5396.25</td>\n",
       "      <td>No</td>\n",
       "      <td>0</td>\n",
       "      <td>0</td>\n",
       "      <td>1</td>\n",
       "      <td>0</td>\n",
       "      <td>...</td>\n",
       "      <td>0</td>\n",
       "      <td>1</td>\n",
       "      <td>1</td>\n",
       "      <td>0</td>\n",
       "      <td>1</td>\n",
       "      <td>1</td>\n",
       "      <td>0</td>\n",
       "      <td>1</td>\n",
       "      <td>0</td>\n",
       "      <td>0</td>\n",
       "    </tr>\n",
       "    <tr>\n",
       "      <th>4398</th>\n",
       "      <td>6199-IWKGC</td>\n",
       "      <td>1</td>\n",
       "      <td>46</td>\n",
       "      <td>100.25</td>\n",
       "      <td>4753.85</td>\n",
       "      <td>No</td>\n",
       "      <td>0</td>\n",
       "      <td>0</td>\n",
       "      <td>1</td>\n",
       "      <td>0</td>\n",
       "      <td>...</td>\n",
       "      <td>0</td>\n",
       "      <td>1</td>\n",
       "      <td>0</td>\n",
       "      <td>1</td>\n",
       "      <td>0</td>\n",
       "      <td>1</td>\n",
       "      <td>0</td>\n",
       "      <td>1</td>\n",
       "      <td>0</td>\n",
       "      <td>0</td>\n",
       "    </tr>\n",
       "    <tr>\n",
       "      <th>2635</th>\n",
       "      <td>3748-FVMZZ</td>\n",
       "      <td>0</td>\n",
       "      <td>4</td>\n",
       "      <td>40.05</td>\n",
       "      <td>162.45</td>\n",
       "      <td>No</td>\n",
       "      <td>0</td>\n",
       "      <td>1</td>\n",
       "      <td>0</td>\n",
       "      <td>1</td>\n",
       "      <td>...</td>\n",
       "      <td>1</td>\n",
       "      <td>0</td>\n",
       "      <td>0</td>\n",
       "      <td>1</td>\n",
       "      <td>1</td>\n",
       "      <td>0</td>\n",
       "      <td>0</td>\n",
       "      <td>0</td>\n",
       "      <td>1</td>\n",
       "      <td>0</td>\n",
       "    </tr>\n",
       "    <tr>\n",
       "      <th>2986</th>\n",
       "      <td>4280-DLSHD</td>\n",
       "      <td>0</td>\n",
       "      <td>8</td>\n",
       "      <td>54.75</td>\n",
       "      <td>445.85</td>\n",
       "      <td>No</td>\n",
       "      <td>1</td>\n",
       "      <td>0</td>\n",
       "      <td>0</td>\n",
       "      <td>1</td>\n",
       "      <td>...</td>\n",
       "      <td>1</td>\n",
       "      <td>0</td>\n",
       "      <td>1</td>\n",
       "      <td>0</td>\n",
       "      <td>1</td>\n",
       "      <td>1</td>\n",
       "      <td>0</td>\n",
       "      <td>1</td>\n",
       "      <td>1</td>\n",
       "      <td>0</td>\n",
       "    </tr>\n",
       "    <tr>\n",
       "      <th>...</th>\n",
       "      <td>...</td>\n",
       "      <td>...</td>\n",
       "      <td>...</td>\n",
       "      <td>...</td>\n",
       "      <td>...</td>\n",
       "      <td>...</td>\n",
       "      <td>...</td>\n",
       "      <td>...</td>\n",
       "      <td>...</td>\n",
       "      <td>...</td>\n",
       "      <td>...</td>\n",
       "      <td>...</td>\n",
       "      <td>...</td>\n",
       "      <td>...</td>\n",
       "      <td>...</td>\n",
       "      <td>...</td>\n",
       "      <td>...</td>\n",
       "      <td>...</td>\n",
       "      <td>...</td>\n",
       "      <td>...</td>\n",
       "      <td>...</td>\n",
       "    </tr>\n",
       "    <tr>\n",
       "      <th>6230</th>\n",
       "      <td>8809-RIHDD</td>\n",
       "      <td>0</td>\n",
       "      <td>72</td>\n",
       "      <td>103.40</td>\n",
       "      <td>7372.65</td>\n",
       "      <td>Yes</td>\n",
       "      <td>0</td>\n",
       "      <td>0</td>\n",
       "      <td>1</td>\n",
       "      <td>0</td>\n",
       "      <td>...</td>\n",
       "      <td>0</td>\n",
       "      <td>1</td>\n",
       "      <td>0</td>\n",
       "      <td>1</td>\n",
       "      <td>1</td>\n",
       "      <td>1</td>\n",
       "      <td>1</td>\n",
       "      <td>1</td>\n",
       "      <td>1</td>\n",
       "      <td>0</td>\n",
       "    </tr>\n",
       "    <tr>\n",
       "      <th>356</th>\n",
       "      <td>0523-VNGTF</td>\n",
       "      <td>1</td>\n",
       "      <td>52</td>\n",
       "      <td>50.50</td>\n",
       "      <td>2566.3</td>\n",
       "      <td>No</td>\n",
       "      <td>0</td>\n",
       "      <td>1</td>\n",
       "      <td>0</td>\n",
       "      <td>1</td>\n",
       "      <td>...</td>\n",
       "      <td>0</td>\n",
       "      <td>1</td>\n",
       "      <td>1</td>\n",
       "      <td>0</td>\n",
       "      <td>0</td>\n",
       "      <td>0</td>\n",
       "      <td>0</td>\n",
       "      <td>0</td>\n",
       "      <td>1</td>\n",
       "      <td>0</td>\n",
       "    </tr>\n",
       "    <tr>\n",
       "      <th>2128</th>\n",
       "      <td>3058-HJCUY</td>\n",
       "      <td>0</td>\n",
       "      <td>41</td>\n",
       "      <td>102.60</td>\n",
       "      <td>4213.35</td>\n",
       "      <td>Yes</td>\n",
       "      <td>0</td>\n",
       "      <td>0</td>\n",
       "      <td>1</td>\n",
       "      <td>0</td>\n",
       "      <td>...</td>\n",
       "      <td>0</td>\n",
       "      <td>1</td>\n",
       "      <td>0</td>\n",
       "      <td>1</td>\n",
       "      <td>1</td>\n",
       "      <td>1</td>\n",
       "      <td>1</td>\n",
       "      <td>1</td>\n",
       "      <td>1</td>\n",
       "      <td>0</td>\n",
       "    </tr>\n",
       "    <tr>\n",
       "      <th>3586</th>\n",
       "      <td>5081-NWSUP</td>\n",
       "      <td>0</td>\n",
       "      <td>10</td>\n",
       "      <td>64.90</td>\n",
       "      <td>685.55</td>\n",
       "      <td>No</td>\n",
       "      <td>1</td>\n",
       "      <td>0</td>\n",
       "      <td>0</td>\n",
       "      <td>0</td>\n",
       "      <td>...</td>\n",
       "      <td>1</td>\n",
       "      <td>0</td>\n",
       "      <td>0</td>\n",
       "      <td>1</td>\n",
       "      <td>0</td>\n",
       "      <td>0</td>\n",
       "      <td>0</td>\n",
       "      <td>1</td>\n",
       "      <td>0</td>\n",
       "      <td>0</td>\n",
       "    </tr>\n",
       "    <tr>\n",
       "      <th>6817</th>\n",
       "      <td>9681-KYGYB</td>\n",
       "      <td>1</td>\n",
       "      <td>49</td>\n",
       "      <td>88.20</td>\n",
       "      <td>4159.45</td>\n",
       "      <td>No</td>\n",
       "      <td>0</td>\n",
       "      <td>0</td>\n",
       "      <td>1</td>\n",
       "      <td>1</td>\n",
       "      <td>...</td>\n",
       "      <td>1</td>\n",
       "      <td>0</td>\n",
       "      <td>1</td>\n",
       "      <td>0</td>\n",
       "      <td>1</td>\n",
       "      <td>1</td>\n",
       "      <td>0</td>\n",
       "      <td>1</td>\n",
       "      <td>1</td>\n",
       "      <td>0</td>\n",
       "    </tr>\n",
       "  </tbody>\n",
       "</table>\n",
       "<p>3943 rows × 37 columns</p>\n",
       "</div>"
      ],
      "text/plain": [
       "     customer_id  senior_citizen  tenure  monthly_charges total_charges churn  \\\n",
       "5310  7503-MIOGA               1      72            89.85       6697.35    No   \n",
       "3790  5329-KRDTM               1      72            77.35       5396.25    No   \n",
       "4398  6199-IWKGC               1      46           100.25       4753.85    No   \n",
       "2635  3748-FVMZZ               0       4            40.05        162.45    No   \n",
       "2986  4280-DLSHD               0       8            54.75        445.85    No   \n",
       "...          ...             ...     ...              ...           ...   ...   \n",
       "6230  8809-RIHDD               0      72           103.40       7372.65   Yes   \n",
       "356   0523-VNGTF               1      52            50.50        2566.3    No   \n",
       "2128  3058-HJCUY               0      41           102.60       4213.35   Yes   \n",
       "3586  5081-NWSUP               0      10            64.90        685.55    No   \n",
       "6817  9681-KYGYB               1      49            88.20       4159.45    No   \n",
       "\n",
       "      single_line  no_phone_service  has_mult_lines  m_to_m_contract  ...  \\\n",
       "5310            0                 0               1                0  ...   \n",
       "3790            0                 0               1                0  ...   \n",
       "4398            0                 0               1                0  ...   \n",
       "2635            0                 1               0                1  ...   \n",
       "2986            1                 0               0                1  ...   \n",
       "...           ...               ...             ...              ...  ...   \n",
       "6230            0                 0               1                0  ...   \n",
       "356             0                 1               0                1  ...   \n",
       "2128            0                 0               1                0  ...   \n",
       "3586            1                 0               0                0  ...   \n",
       "6817            0                 0               1                1  ...   \n",
       "\n",
       "      not_streaming_tv  is_streaming_tv  not_streaming_movies  \\\n",
       "5310                 0                1                     0   \n",
       "3790                 0                1                     1   \n",
       "4398                 0                1                     0   \n",
       "2635                 1                0                     0   \n",
       "2986                 1                0                     1   \n",
       "...                ...              ...                   ...   \n",
       "6230                 0                1                     0   \n",
       "356                  0                1                     1   \n",
       "2128                 0                1                     0   \n",
       "3586                 1                0                     0   \n",
       "6817                 1                0                     1   \n",
       "\n",
       "      is_streaming_movies  is_male  has_partner  has_dependents  \\\n",
       "5310                    1        0            1               0   \n",
       "3790                    0        1            1               0   \n",
       "4398                    1        0            1               0   \n",
       "2635                    1        1            0               0   \n",
       "2986                    0        1            1               0   \n",
       "...                   ...      ...          ...             ...   \n",
       "6230                    1        1            1               1   \n",
       "356                     0        0            0               0   \n",
       "2128                    1        1            1               1   \n",
       "3586                    1        0            0               0   \n",
       "6817                    0        1            1               0   \n",
       "\n",
       "      has_phone_serv  has_paperless_bill  baseline_prediction  \n",
       "5310               1                   1                    0  \n",
       "3790               1                   0                    0  \n",
       "4398               1                   0                    0  \n",
       "2635               0                   1                    0  \n",
       "2986               1                   1                    0  \n",
       "...              ...                 ...                  ...  \n",
       "6230               1                   1                    0  \n",
       "356                0                   1                    0  \n",
       "2128               1                   1                    0  \n",
       "3586               1                   0                    0  \n",
       "6817               1                   1                    0  \n",
       "\n",
       "[3943 rows x 37 columns]"
      ]
     },
     "execution_count": 10,
     "metadata": {},
     "output_type": "execute_result"
    }
   ],
   "source": [
    "# Verify column was created\n",
    "train"
   ]
  },
  {
   "cell_type": "code",
   "execution_count": 11,
   "id": "23da7519",
   "metadata": {},
   "outputs": [],
   "source": [
    "X_cols = train.columns\n",
    "y_cols = 'churn'"
   ]
  },
  {
   "cell_type": "code",
   "execution_count": 12,
   "id": "3e143f61",
   "metadata": {},
   "outputs": [],
   "source": [
    "# drop churn out of X_cols:\n",
    "drop_cols = ['churn', 'senior_citizen', 'is_male', 'customer_id', 'tenure', 'monthly_charges', 'total_charges'\n",
    ", 'm_to_m_contract', 'one_yr_contract', 'two_yr_contract'\n",
    ", 'dsl', 'fiber_optic', 'no_internet', 'bank_transfer'\n",
    ", 'credit_card', 'e_check', 'mailed_check', 'no_online_security'\n",
    ", 'has_online_secur', 'no_online_backup', 'has_online_backup'\n",
    ", 'no_device_protect', 'has_device_protect', 'no_tech_support'\n",
    ", 'has_tech_support', 'not_streaming_tv', 'is_streaming_tv'\n",
    ", 'not_streaming_movies', 'is_streaming_movies', 'has_phone_serv'\n",
    ", 'has_paperless_bill', 'no_phone_service']"
   ]
  },
  {
   "cell_type": "code",
   "execution_count": 13,
   "id": "4b793006",
   "metadata": {},
   "outputs": [],
   "source": [
    "X_cols = (X_cols.drop(drop_cols))"
   ]
  },
  {
   "cell_type": "code",
   "execution_count": 14,
   "id": "48d13da8",
   "metadata": {},
   "outputs": [
    {
     "data": {
      "text/plain": [
       "Index(['single_line', 'has_mult_lines', 'has_partner', 'has_dependents',\n",
       "       'baseline_prediction'],\n",
       "      dtype='object')"
      ]
     },
     "execution_count": 14,
     "metadata": {},
     "output_type": "execute_result"
    }
   ],
   "source": [
    "X_cols"
   ]
  },
  {
   "cell_type": "code",
   "execution_count": 15,
   "id": "46b35795",
   "metadata": {},
   "outputs": [
    {
     "data": {
      "text/plain": [
       "5310    No\n",
       "3790    No\n",
       "4398    No\n",
       "2635    No\n",
       "2986    No\n",
       "Name: churn, dtype: object"
      ]
     },
     "execution_count": 15,
     "metadata": {},
     "output_type": "execute_result"
    }
   ],
   "source": [
    "train[y_cols].head()"
   ]
  },
  {
   "cell_type": "code",
   "execution_count": 16,
   "id": "465f9eb2",
   "metadata": {},
   "outputs": [],
   "source": [
    "# make DecisionTreeClassifier\n",
    "clf = DecisionTreeClassifier()"
   ]
  },
  {
   "cell_type": "code",
   "execution_count": 17,
   "id": "26d27596",
   "metadata": {},
   "outputs": [
    {
     "data": {
      "text/html": [
       "<style>#sk-container-id-1 {color: black;background-color: white;}#sk-container-id-1 pre{padding: 0;}#sk-container-id-1 div.sk-toggleable {background-color: white;}#sk-container-id-1 label.sk-toggleable__label {cursor: pointer;display: block;width: 100%;margin-bottom: 0;padding: 0.3em;box-sizing: border-box;text-align: center;}#sk-container-id-1 label.sk-toggleable__label-arrow:before {content: \"▸\";float: left;margin-right: 0.25em;color: #696969;}#sk-container-id-1 label.sk-toggleable__label-arrow:hover:before {color: black;}#sk-container-id-1 div.sk-estimator:hover label.sk-toggleable__label-arrow:before {color: black;}#sk-container-id-1 div.sk-toggleable__content {max-height: 0;max-width: 0;overflow: hidden;text-align: left;background-color: #f0f8ff;}#sk-container-id-1 div.sk-toggleable__content pre {margin: 0.2em;color: black;border-radius: 0.25em;background-color: #f0f8ff;}#sk-container-id-1 input.sk-toggleable__control:checked~div.sk-toggleable__content {max-height: 200px;max-width: 100%;overflow: auto;}#sk-container-id-1 input.sk-toggleable__control:checked~label.sk-toggleable__label-arrow:before {content: \"▾\";}#sk-container-id-1 div.sk-estimator input.sk-toggleable__control:checked~label.sk-toggleable__label {background-color: #d4ebff;}#sk-container-id-1 div.sk-label input.sk-toggleable__control:checked~label.sk-toggleable__label {background-color: #d4ebff;}#sk-container-id-1 input.sk-hidden--visually {border: 0;clip: rect(1px 1px 1px 1px);clip: rect(1px, 1px, 1px, 1px);height: 1px;margin: -1px;overflow: hidden;padding: 0;position: absolute;width: 1px;}#sk-container-id-1 div.sk-estimator {font-family: monospace;background-color: #f0f8ff;border: 1px dotted black;border-radius: 0.25em;box-sizing: border-box;margin-bottom: 0.5em;}#sk-container-id-1 div.sk-estimator:hover {background-color: #d4ebff;}#sk-container-id-1 div.sk-parallel-item::after {content: \"\";width: 100%;border-bottom: 1px solid gray;flex-grow: 1;}#sk-container-id-1 div.sk-label:hover label.sk-toggleable__label {background-color: #d4ebff;}#sk-container-id-1 div.sk-serial::before {content: \"\";position: absolute;border-left: 1px solid gray;box-sizing: border-box;top: 0;bottom: 0;left: 50%;z-index: 0;}#sk-container-id-1 div.sk-serial {display: flex;flex-direction: column;align-items: center;background-color: white;padding-right: 0.2em;padding-left: 0.2em;position: relative;}#sk-container-id-1 div.sk-item {position: relative;z-index: 1;}#sk-container-id-1 div.sk-parallel {display: flex;align-items: stretch;justify-content: center;background-color: white;position: relative;}#sk-container-id-1 div.sk-item::before, #sk-container-id-1 div.sk-parallel-item::before {content: \"\";position: absolute;border-left: 1px solid gray;box-sizing: border-box;top: 0;bottom: 0;left: 50%;z-index: -1;}#sk-container-id-1 div.sk-parallel-item {display: flex;flex-direction: column;z-index: 1;position: relative;background-color: white;}#sk-container-id-1 div.sk-parallel-item:first-child::after {align-self: flex-end;width: 50%;}#sk-container-id-1 div.sk-parallel-item:last-child::after {align-self: flex-start;width: 50%;}#sk-container-id-1 div.sk-parallel-item:only-child::after {width: 0;}#sk-container-id-1 div.sk-dashed-wrapped {border: 1px dashed gray;margin: 0 0.4em 0.5em 0.4em;box-sizing: border-box;padding-bottom: 0.4em;background-color: white;}#sk-container-id-1 div.sk-label label {font-family: monospace;font-weight: bold;display: inline-block;line-height: 1.2em;}#sk-container-id-1 div.sk-label-container {text-align: center;}#sk-container-id-1 div.sk-container {/* jupyter's `normalize.less` sets `[hidden] { display: none; }` but bootstrap.min.css set `[hidden] { display: none !important; }` so we also need the `!important` here to be able to override the default hidden behavior on the sphinx rendered scikit-learn.org. See: https://github.com/scikit-learn/scikit-learn/issues/21755 */display: inline-block !important;position: relative;}#sk-container-id-1 div.sk-text-repr-fallback {display: none;}</style><div id=\"sk-container-id-1\" class=\"sk-top-container\"><div class=\"sk-text-repr-fallback\"><pre>DecisionTreeClassifier()</pre><b>In a Jupyter environment, please rerun this cell to show the HTML representation or trust the notebook. <br />On GitHub, the HTML representation is unable to render, please try loading this page with nbviewer.org.</b></div><div class=\"sk-container\" hidden><div class=\"sk-item\"><div class=\"sk-estimator sk-toggleable\"><input class=\"sk-toggleable__control sk-hidden--visually\" id=\"sk-estimator-id-1\" type=\"checkbox\" checked><label for=\"sk-estimator-id-1\" class=\"sk-toggleable__label sk-toggleable__label-arrow\">DecisionTreeClassifier</label><div class=\"sk-toggleable__content\"><pre>DecisionTreeClassifier()</pre></div></div></div></div></div>"
      ],
      "text/plain": [
       "DecisionTreeClassifier()"
      ]
     },
     "execution_count": 17,
     "metadata": {},
     "output_type": "execute_result"
    }
   ],
   "source": [
    "# verify\n",
    "clf"
   ]
  },
  {
   "cell_type": "code",
   "execution_count": 18,
   "id": "751ec7ac",
   "metadata": {},
   "outputs": [
    {
     "data": {
      "text/html": [
       "<style>#sk-container-id-2 {color: black;background-color: white;}#sk-container-id-2 pre{padding: 0;}#sk-container-id-2 div.sk-toggleable {background-color: white;}#sk-container-id-2 label.sk-toggleable__label {cursor: pointer;display: block;width: 100%;margin-bottom: 0;padding: 0.3em;box-sizing: border-box;text-align: center;}#sk-container-id-2 label.sk-toggleable__label-arrow:before {content: \"▸\";float: left;margin-right: 0.25em;color: #696969;}#sk-container-id-2 label.sk-toggleable__label-arrow:hover:before {color: black;}#sk-container-id-2 div.sk-estimator:hover label.sk-toggleable__label-arrow:before {color: black;}#sk-container-id-2 div.sk-toggleable__content {max-height: 0;max-width: 0;overflow: hidden;text-align: left;background-color: #f0f8ff;}#sk-container-id-2 div.sk-toggleable__content pre {margin: 0.2em;color: black;border-radius: 0.25em;background-color: #f0f8ff;}#sk-container-id-2 input.sk-toggleable__control:checked~div.sk-toggleable__content {max-height: 200px;max-width: 100%;overflow: auto;}#sk-container-id-2 input.sk-toggleable__control:checked~label.sk-toggleable__label-arrow:before {content: \"▾\";}#sk-container-id-2 div.sk-estimator input.sk-toggleable__control:checked~label.sk-toggleable__label {background-color: #d4ebff;}#sk-container-id-2 div.sk-label input.sk-toggleable__control:checked~label.sk-toggleable__label {background-color: #d4ebff;}#sk-container-id-2 input.sk-hidden--visually {border: 0;clip: rect(1px 1px 1px 1px);clip: rect(1px, 1px, 1px, 1px);height: 1px;margin: -1px;overflow: hidden;padding: 0;position: absolute;width: 1px;}#sk-container-id-2 div.sk-estimator {font-family: monospace;background-color: #f0f8ff;border: 1px dotted black;border-radius: 0.25em;box-sizing: border-box;margin-bottom: 0.5em;}#sk-container-id-2 div.sk-estimator:hover {background-color: #d4ebff;}#sk-container-id-2 div.sk-parallel-item::after {content: \"\";width: 100%;border-bottom: 1px solid gray;flex-grow: 1;}#sk-container-id-2 div.sk-label:hover label.sk-toggleable__label {background-color: #d4ebff;}#sk-container-id-2 div.sk-serial::before {content: \"\";position: absolute;border-left: 1px solid gray;box-sizing: border-box;top: 0;bottom: 0;left: 50%;z-index: 0;}#sk-container-id-2 div.sk-serial {display: flex;flex-direction: column;align-items: center;background-color: white;padding-right: 0.2em;padding-left: 0.2em;position: relative;}#sk-container-id-2 div.sk-item {position: relative;z-index: 1;}#sk-container-id-2 div.sk-parallel {display: flex;align-items: stretch;justify-content: center;background-color: white;position: relative;}#sk-container-id-2 div.sk-item::before, #sk-container-id-2 div.sk-parallel-item::before {content: \"\";position: absolute;border-left: 1px solid gray;box-sizing: border-box;top: 0;bottom: 0;left: 50%;z-index: -1;}#sk-container-id-2 div.sk-parallel-item {display: flex;flex-direction: column;z-index: 1;position: relative;background-color: white;}#sk-container-id-2 div.sk-parallel-item:first-child::after {align-self: flex-end;width: 50%;}#sk-container-id-2 div.sk-parallel-item:last-child::after {align-self: flex-start;width: 50%;}#sk-container-id-2 div.sk-parallel-item:only-child::after {width: 0;}#sk-container-id-2 div.sk-dashed-wrapped {border: 1px dashed gray;margin: 0 0.4em 0.5em 0.4em;box-sizing: border-box;padding-bottom: 0.4em;background-color: white;}#sk-container-id-2 div.sk-label label {font-family: monospace;font-weight: bold;display: inline-block;line-height: 1.2em;}#sk-container-id-2 div.sk-label-container {text-align: center;}#sk-container-id-2 div.sk-container {/* jupyter's `normalize.less` sets `[hidden] { display: none; }` but bootstrap.min.css set `[hidden] { display: none !important; }` so we also need the `!important` here to be able to override the default hidden behavior on the sphinx rendered scikit-learn.org. See: https://github.com/scikit-learn/scikit-learn/issues/21755 */display: inline-block !important;position: relative;}#sk-container-id-2 div.sk-text-repr-fallback {display: none;}</style><div id=\"sk-container-id-2\" class=\"sk-top-container\"><div class=\"sk-text-repr-fallback\"><pre>DecisionTreeClassifier()</pre><b>In a Jupyter environment, please rerun this cell to show the HTML representation or trust the notebook. <br />On GitHub, the HTML representation is unable to render, please try loading this page with nbviewer.org.</b></div><div class=\"sk-container\" hidden><div class=\"sk-item\"><div class=\"sk-estimator sk-toggleable\"><input class=\"sk-toggleable__control sk-hidden--visually\" id=\"sk-estimator-id-2\" type=\"checkbox\" checked><label for=\"sk-estimator-id-2\" class=\"sk-toggleable__label sk-toggleable__label-arrow\">DecisionTreeClassifier</label><div class=\"sk-toggleable__content\"><pre>DecisionTreeClassifier()</pre></div></div></div></div></div>"
      ],
      "text/plain": [
       "DecisionTreeClassifier()"
      ]
     },
     "execution_count": 18,
     "metadata": {},
     "output_type": "execute_result"
    }
   ],
   "source": [
    "# fit\n",
    "clf.fit(train[X_cols], train[y_cols])"
   ]
  },
  {
   "cell_type": "code",
   "execution_count": 19,
   "id": "8808150f",
   "metadata": {},
   "outputs": [],
   "source": [
    "# use decision tree to make first model\n",
    "model_1_preds = clf.predict(train[X_cols])"
   ]
  },
  {
   "cell_type": "code",
   "execution_count": 20,
   "id": "97018c6f",
   "metadata": {},
   "outputs": [],
   "source": [
    "# make second model\n",
    "clf1 = DecisionTreeClassifier(max_depth=2)\n",
    "# fit\n",
    "clf1.fit(train[X_cols],train[y_cols])\n",
    "# use\n",
    "model_2_preds = clf1.predict(train[X_cols])"
   ]
  },
  {
   "cell_type": "code",
   "execution_count": 21,
   "id": "2adb2e35",
   "metadata": {},
   "outputs": [
    {
     "data": {
      "text/plain": [
       "0.7347197565305605"
      ]
     },
     "execution_count": 21,
     "metadata": {},
     "output_type": "execute_result"
    }
   ],
   "source": [
    "clf1.score(train[X_cols],train[y_cols])\n"
   ]
  },
  {
   "cell_type": "code",
   "execution_count": 22,
   "id": "8c7034c1",
   "metadata": {},
   "outputs": [],
   "source": [
    "clf2 = DecisionTreeClassifier(max_depth=1)\n",
    "\n",
    "clf2.fit(train[X_cols],train[y_cols])\n",
    "\n",
    "model_3_preds = clf2.predict(train[X_cols])"
   ]
  },
  {
   "cell_type": "code",
   "execution_count": 23,
   "id": "e110a004",
   "metadata": {},
   "outputs": [
    {
     "data": {
      "text/html": [
       "<div>\n",
       "<style scoped>\n",
       "    .dataframe tbody tr th:only-of-type {\n",
       "        vertical-align: middle;\n",
       "    }\n",
       "\n",
       "    .dataframe tbody tr th {\n",
       "        vertical-align: top;\n",
       "    }\n",
       "\n",
       "    .dataframe thead th {\n",
       "        text-align: right;\n",
       "    }\n",
       "</style>\n",
       "<table border=\"1\" class=\"dataframe\">\n",
       "  <thead>\n",
       "    <tr style=\"text-align: right;\">\n",
       "      <th></th>\n",
       "      <th>single_line</th>\n",
       "      <th>has_mult_lines</th>\n",
       "      <th>has_partner</th>\n",
       "      <th>has_dependents</th>\n",
       "      <th>baseline_prediction</th>\n",
       "    </tr>\n",
       "  </thead>\n",
       "  <tbody>\n",
       "    <tr>\n",
       "      <th>5310</th>\n",
       "      <td>0</td>\n",
       "      <td>1</td>\n",
       "      <td>1</td>\n",
       "      <td>0</td>\n",
       "      <td>0</td>\n",
       "    </tr>\n",
       "    <tr>\n",
       "      <th>3790</th>\n",
       "      <td>0</td>\n",
       "      <td>1</td>\n",
       "      <td>1</td>\n",
       "      <td>0</td>\n",
       "      <td>0</td>\n",
       "    </tr>\n",
       "  </tbody>\n",
       "</table>\n",
       "</div>"
      ],
      "text/plain": [
       "      single_line  has_mult_lines  has_partner  has_dependents  \\\n",
       "5310            0               1            1               0   \n",
       "3790            0               1            1               0   \n",
       "\n",
       "     baseline_prediction  \n",
       "5310                   0  \n",
       "3790                   0  "
      ]
     },
     "execution_count": 23,
     "metadata": {},
     "output_type": "execute_result"
    }
   ],
   "source": [
    "train[X_cols].head(2)"
   ]
  },
  {
   "cell_type": "code",
   "execution_count": 24,
   "id": "cac5a82b",
   "metadata": {},
   "outputs": [
    {
     "data": {
      "text/plain": [
       "0.7347197565305605"
      ]
     },
     "execution_count": 24,
     "metadata": {},
     "output_type": "execute_result"
    }
   ],
   "source": [
    "# accuracy lil more like we saw before\n",
    "accuracy_score(train[y_cols], model_3_preds)"
   ]
  },
  {
   "cell_type": "code",
   "execution_count": 25,
   "id": "22bc4482",
   "metadata": {},
   "outputs": [
    {
     "data": {
      "text/plain": [
       "0.7347197565305605"
      ]
     },
     "execution_count": 25,
     "metadata": {},
     "output_type": "execute_result"
    }
   ],
   "source": [
    "clf2.score(train[X_cols], train[y_cols])"
   ]
  },
  {
   "cell_type": "code",
   "execution_count": 26,
   "id": "322dc36e",
   "metadata": {},
   "outputs": [
    {
     "data": {
      "text/plain": [
       "[Text(0.5294117647058824, 0.9, 'has_dependents <= 0.5\\ngini = 0.39\\nsamples = 3943\\nvalue = [2897, 1046]\\nclass = No'),\n",
       " Text(0.29411764705882354, 0.7, 'has_partner <= 0.5\\ngini = 0.431\\nsamples = 2730\\nvalue = [1871, 859]\\nclass = No'),\n",
       " Text(0.17647058823529413, 0.5, 'has_mult_lines <= 0.5\\ngini = 0.454\\nsamples = 1811\\nvalue = [1179, 632]\\nclass = No'),\n",
       " Text(0.11764705882352941, 0.3, 'single_line <= 0.5\\ngini = 0.442\\nsamples = 1147\\nvalue = [769, 378]\\nclass = No'),\n",
       " Text(0.058823529411764705, 0.1, 'gini = 0.449\\nsamples = 176\\nvalue = [116, 60]\\nclass = No'),\n",
       " Text(0.17647058823529413, 0.1, 'gini = 0.44\\nsamples = 971\\nvalue = [653, 318]\\nclass = No'),\n",
       " Text(0.23529411764705882, 0.3, 'gini = 0.472\\nsamples = 664\\nvalue = [410, 254]\\nclass = No'),\n",
       " Text(0.4117647058823529, 0.5, 'single_line <= 0.5\\ngini = 0.372\\nsamples = 919\\nvalue = [692, 227]\\nclass = No'),\n",
       " Text(0.35294117647058826, 0.3, 'has_mult_lines <= 0.5\\ngini = 0.385\\nsamples = 610\\nvalue = [451, 159]\\nclass = No'),\n",
       " Text(0.29411764705882354, 0.1, 'gini = 0.375\\nsamples = 80\\nvalue = [60, 20]\\nclass = No'),\n",
       " Text(0.4117647058823529, 0.1, 'gini = 0.387\\nsamples = 530\\nvalue = [391, 139]\\nclass = No'),\n",
       " Text(0.47058823529411764, 0.3, 'gini = 0.343\\nsamples = 309\\nvalue = [241, 68]\\nclass = No'),\n",
       " Text(0.7647058823529411, 0.7, 'has_partner <= 0.5\\ngini = 0.261\\nsamples = 1213\\nvalue = [1026, 187]\\nclass = No'),\n",
       " Text(0.6470588235294118, 0.5, 'has_mult_lines <= 0.5\\ngini = 0.322\\nsamples = 213\\nvalue = [170, 43]\\nclass = No'),\n",
       " Text(0.5882352941176471, 0.3, 'single_line <= 0.5\\ngini = 0.308\\nsamples = 147\\nvalue = [119, 28]\\nclass = No'),\n",
       " Text(0.5294117647058824, 0.1, 'gini = 0.227\\nsamples = 23\\nvalue = [20, 3]\\nclass = No'),\n",
       " Text(0.6470588235294118, 0.1, 'gini = 0.322\\nsamples = 124\\nvalue = [99, 25]\\nclass = No'),\n",
       " Text(0.7058823529411765, 0.3, 'gini = 0.351\\nsamples = 66\\nvalue = [51, 15]\\nclass = No'),\n",
       " Text(0.8823529411764706, 0.5, 'has_mult_lines <= 0.5\\ngini = 0.247\\nsamples = 1000\\nvalue = [856, 144]\\nclass = No'),\n",
       " Text(0.8235294117647058, 0.3, 'single_line <= 0.5\\ngini = 0.226\\nsamples = 563\\nvalue = [490, 73]\\nclass = No'),\n",
       " Text(0.7647058823529411, 0.1, 'gini = 0.187\\nsamples = 86\\nvalue = [77, 9]\\nclass = No'),\n",
       " Text(0.8823529411764706, 0.1, 'gini = 0.232\\nsamples = 477\\nvalue = [413, 64]\\nclass = No'),\n",
       " Text(0.9411764705882353, 0.3, 'gini = 0.272\\nsamples = 437\\nvalue = [366, 71]\\nclass = No')]"
      ]
     },
     "execution_count": 26,
     "metadata": {},
     "output_type": "execute_result"
    },
    {
     "data": {
      "image/png": "[encoded data removed]",
      "text/plain": [
       "<Figure size 1300x700 with 1 Axes>"
      ]
     },
     "metadata": {},
     "output_type": "display_data"
    }
   ],
   "source": [
    "plt.figure(figsize=(13, 7))\n",
    "plot_tree(clf, feature_names=X_cols, class_names=clf.classes_, rounded=True)\n"
   ]
  },
  {
   "cell_type": "code",
   "execution_count": 28,
   "id": "c40aa5f5",
   "metadata": {},
   "outputs": [
    {
     "data": {
      "text/plain": [
       "0.7347197565305605"
      ]
     },
     "execution_count": 28,
     "metadata": {},
     "output_type": "execute_result"
    }
   ],
   "source": [
    "clf.score(train[X_cols],train[y_cols])"
   ]
  },
  {
   "cell_type": "code",
   "execution_count": 30,
   "id": "cf319e31",
   "metadata": {},
   "outputs": [
    {
     "name": "stdout",
     "output_type": "stream",
     "text": [
      "              precision    recall  f1-score   support\n",
      "\n",
      "          No       0.73      1.00      0.85      2897\n",
      "         Yes       0.00      0.00      0.00      1046\n",
      "\n",
      "    accuracy                           0.73      3943\n",
      "   macro avg       0.37      0.50      0.42      3943\n",
      "weighted avg       0.54      0.73      0.62      3943\n",
      "\n"
     ]
    },
    {
     "name": "stderr",
     "output_type": "stream",
     "text": [
      "/opt/homebrew/anaconda3/lib/python3.9/site-packages/sklearn/metrics/_classification.py:1327: UndefinedMetricWarning: Precision and F-score are ill-defined and being set to 0.0 in labels with no predicted samples. Use `zero_division` parameter to control this behavior.\n",
      "  _warn_prf(average, modifier, msg_start, len(result))\n",
      "/opt/homebrew/anaconda3/lib/python3.9/site-packages/sklearn/metrics/_classification.py:1327: UndefinedMetricWarning: Precision and F-score are ill-defined and being set to 0.0 in labels with no predicted samples. Use `zero_division` parameter to control this behavior.\n",
      "  _warn_prf(average, modifier, msg_start, len(result))\n",
      "/opt/homebrew/anaconda3/lib/python3.9/site-packages/sklearn/metrics/_classification.py:1327: UndefinedMetricWarning: Precision and F-score are ill-defined and being set to 0.0 in labels with no predicted samples. Use `zero_division` parameter to control this behavior.\n",
      "  _warn_prf(average, modifier, msg_start, len(result))\n"
     ]
    }
   ],
   "source": [
    "# classification report:\n",
    "print(classification_report(train[y_cols],\n",
    "                      model_2_preds))"
   ]
  },
  {
   "cell_type": "code",
   "execution_count": 33,
   "id": "ee2c757d",
   "metadata": {},
   "outputs": [],
   "source": [
    "from sklearn.ensemble import RandomForestClassifier\n"
   ]
  },
  {
   "cell_type": "code",
   "execution_count": null,
   "id": "c1083566",
   "metadata": {},
   "outputs": [],
   "source": [
    "X_train = train[X_cols]\n",
    "y_train = train[y_cols]\n",
    "\n",
    "rf = RandomForestClassifier()\n",
    "rf.fit(X_train[['has_partner', 'has_dependents']], y_train)\n",
    "rf1_preds = rf.predict(X_train[['has_partner', 'has_dependents']])"
   ]
  },
  {
   "cell_type": "code",
   "execution_count": null,
   "id": "6af9e7ac",
   "metadata": {},
   "outputs": [],
   "source": [
    "X_val, y_val = validate[X_cols], validate[y_cols]"
   ]
  }
 ],
 "metadata": {
  "kernelspec": {
   "display_name": "Python 3 (ipykernel)",
   "language": "python",
   "name": "python3"
  },
  "language_info": {
   "codemirror_mode": {
    "name": "ipython",
    "version": 3
   },
   "file_extension": ".py",
   "mimetype": "text/x-python",
   "name": "python",
   "nbconvert_exporter": "python",
   "pygments_lexer": "ipython3",
   "version": "3.9.13"
  }
 },
 "nbformat": 4,
 "nbformat_minor": 5
}
